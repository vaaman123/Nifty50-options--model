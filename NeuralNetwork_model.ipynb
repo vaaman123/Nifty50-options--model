{
 "cells": [
  {
   "cell_type": "code",
   "execution_count": 19,
   "id": "ee3b2ba0-2809-410b-819a-cb0f3bafd612",
   "metadata": {},
   "outputs": [],
   "source": [
    "import pandas as pd\n",
    "import numpy as np\n",
    "from sklearn.model_selection import train_test_split\n",
    "from sklearn.preprocessing import StandardScaler\n",
    "import tensorflow as tf\n",
    "from tensorflow.keras.models import Sequential\n",
    "from tensorflow.keras.layers import Dense\n",
    "from tensorflow.keras.optimizers import Adam\n",
    "from tensorflow.keras.callbacks import EarlyStopping\n",
    "from tensorflow.keras.regularizers import l2"
   ]
  },
  {
   "cell_type": "code",
   "execution_count": null,
   "id": "1926fd02-bf23-444f-b56d-6d1f17212f2a",
   "metadata": {},
   "outputs": [],
   "source": []
  },
  {
   "cell_type": "code",
   "execution_count": 30,
   "id": "be5556bf-d848-48ce-9e49-d3f519f4d412",
   "metadata": {},
   "outputs": [],
   "source": [
    "file_path = r\"C:\\Vaaman\\Finance model predictor\\processed_data.xlsx\"\n",
    "data = pd.read_excel(file_path, sheet_name='Sheet4')"
   ]
  },
  {
   "cell_type": "code",
   "execution_count": 31,
   "id": "0cf5d3b9-590e-41f0-ab54-a8ad852d1a2c",
   "metadata": {},
   "outputs": [],
   "source": [
    "X = data[['7 day_past_percentage_decrease']]  \n",
    "y = data['Binary Classifier'] "
   ]
  },
  {
   "cell_type": "code",
   "execution_count": 22,
   "id": "01314af3-8eff-40f1-a1f6-f0b00e2620c6",
   "metadata": {},
   "outputs": [],
   "source": [
    "X_train, X_test, y_train, y_test = train_test_split(X, y, test_size=0.2, random_state=42)"
   ]
  },
  {
   "cell_type": "code",
   "execution_count": 23,
   "id": "d6dd08d6-bc59-4766-86d8-a63567f42042",
   "metadata": {},
   "outputs": [],
   "source": [
    "scaler = StandardScaler()\n",
    "X_train_scaled = scaler.fit_transform(X_train)\n",
    "X_test_scaled = scaler.transform(X_test)"
   ]
  },
  {
   "cell_type": "code",
   "execution_count": 24,
   "id": "e040b4eb-48e4-4e6e-bb64-3b32040c8cd8",
   "metadata": {},
   "outputs": [],
   "source": [
    "from imblearn.over_sampling import SMOTE\n",
    "smote = SMOTE(random_state=42)\n",
    "X_train_resampled, y_train_resampled = smote.fit_resample(X_train_scaled, y_train)"
   ]
  },
  {
   "cell_type": "code",
   "execution_count": 25,
   "id": "0752e97b-0871-4ed0-8243-427c789c815c",
   "metadata": {},
   "outputs": [],
   "source": [
    "model = Sequential([\n",
    "    \n",
    "    Dense(units = 256, activation = 'relu', kernel_regularizer=l2(0.01)),\n",
    "    Dense(units = 128, activation = 'relu', kernel_regularizer=l2(0.01)),\n",
    "    Dense(units = 128, activation = 'relu', kernel_regularizer=l2(0.01)),\n",
    "    Dense(units = 64, activation = 'relu', kernel_regularizer=l2(0.01)),\n",
    "    Dense(units = 64, activation = 'relu', kernel_regularizer=l2(0.01)),\n",
    "    Dense(units = 32, activation = 'relu', kernel_regularizer=l2(0.01)),\n",
    "    Dense(units = 32, activation = 'relu', kernel_regularizer=l2(0.01)),\n",
    "    Dense(units = 16, activation = 'relu', kernel_regularizer=l2(0.01)),\n",
    "    Dense(units = 8, activation = 'relu', kernel_regularizer=l2(0.01)),\n",
    "    Dense(units = 1, activation = 'linear')])"
   ]
  },
  {
   "cell_type": "code",
   "execution_count": 26,
   "id": "16a2d39f-edd8-46e9-90b1-319c9089153f",
   "metadata": {},
   "outputs": [],
   "source": [
    "model.compile(optimizer = Adam(0.001), \n",
    "             loss = tf.keras.losses.BinaryCrossentropy(from_logits = True),\n",
    "             metrics=['accuracy'])"
   ]
  },
  {
   "cell_type": "code",
   "execution_count": 27,
   "id": "325872ff-da0e-41de-ae26-818badce6bda",
   "metadata": {},
   "outputs": [
    {
     "name": "stdout",
     "output_type": "stream",
     "text": [
      "Epoch 1/50\n",
      "\u001b[1m84/84\u001b[0m \u001b[32m━━━━━━━━━━━━━━━━━━━━\u001b[0m\u001b[37m\u001b[0m \u001b[1m13s\u001b[0m 20ms/step - accuracy: 0.5080 - loss: 4.6156 - val_accuracy: 0.7016 - val_loss: 1.7893\n",
      "Epoch 2/50\n",
      "\u001b[1m84/84\u001b[0m \u001b[32m━━━━━━━━━━━━━━━━━━━━\u001b[0m\u001b[37m\u001b[0m \u001b[1m2s\u001b[0m 8ms/step - accuracy: 0.4808 - loss: 1.4807 - val_accuracy: 0.7016 - val_loss: 0.9458\n",
      "Epoch 3/50\n",
      "\u001b[1m84/84\u001b[0m \u001b[32m━━━━━━━━━━━━━━━━━━━━\u001b[0m\u001b[37m\u001b[0m \u001b[1m1s\u001b[0m 8ms/step - accuracy: 0.4842 - loss: 0.8823 - val_accuracy: 0.7016 - val_loss: 0.7647\n",
      "Epoch 4/50\n",
      "\u001b[1m84/84\u001b[0m \u001b[32m━━━━━━━━━━━━━━━━━━━━\u001b[0m\u001b[37m\u001b[0m \u001b[1m1s\u001b[0m 8ms/step - accuracy: 0.4621 - loss: 0.7501 - val_accuracy: 0.7016 - val_loss: 0.7171\n",
      "Epoch 5/50\n",
      "\u001b[1m84/84\u001b[0m \u001b[32m━━━━━━━━━━━━━━━━━━━━\u001b[0m\u001b[37m\u001b[0m \u001b[1m1s\u001b[0m 8ms/step - accuracy: 0.5201 - loss: 0.7125 - val_accuracy: 0.7016 - val_loss: 0.7008\n",
      "Epoch 6/50\n",
      "\u001b[1m84/84\u001b[0m \u001b[32m━━━━━━━━━━━━━━━━━━━━\u001b[0m\u001b[37m\u001b[0m \u001b[1m1s\u001b[0m 7ms/step - accuracy: 0.5051 - loss: 0.7004 - val_accuracy: 0.7016 - val_loss: 0.6959\n",
      "Epoch 7/50\n",
      "\u001b[1m84/84\u001b[0m \u001b[32m━━━━━━━━━━━━━━━━━━━━\u001b[0m\u001b[37m\u001b[0m \u001b[1m1s\u001b[0m 8ms/step - accuracy: 0.4822 - loss: 0.6961 - val_accuracy: 0.7016 - val_loss: 0.6941\n",
      "Epoch 8/50\n",
      "\u001b[1m84/84\u001b[0m \u001b[32m━━━━━━━━━━━━━━━━━━━━\u001b[0m\u001b[37m\u001b[0m \u001b[1m1s\u001b[0m 8ms/step - accuracy: 0.4883 - loss: 0.6943 - val_accuracy: 0.7016 - val_loss: 0.6933\n",
      "Epoch 9/50\n",
      "\u001b[1m84/84\u001b[0m \u001b[32m━━━━━━━━━━━━━━━━━━━━\u001b[0m\u001b[37m\u001b[0m \u001b[1m1s\u001b[0m 8ms/step - accuracy: 0.4935 - loss: 0.6937 - val_accuracy: 0.7016 - val_loss: 0.6929\n",
      "Epoch 10/50\n",
      "\u001b[1m84/84\u001b[0m \u001b[32m━━━━━━━━━━━━━━━━━━━━\u001b[0m\u001b[37m\u001b[0m \u001b[1m1s\u001b[0m 8ms/step - accuracy: 0.5095 - loss: 0.6933 - val_accuracy: 0.7016 - val_loss: 0.6929\n",
      "Epoch 11/50\n",
      "\u001b[1m84/84\u001b[0m \u001b[32m━━━━━━━━━━━━━━━━━━━━\u001b[0m\u001b[37m\u001b[0m \u001b[1m1s\u001b[0m 8ms/step - accuracy: 0.4962 - loss: 0.6933 - val_accuracy: 0.7016 - val_loss: 0.6927\n",
      "Epoch 12/50\n",
      "\u001b[1m84/84\u001b[0m \u001b[32m━━━━━━━━━━━━━━━━━━━━\u001b[0m\u001b[37m\u001b[0m \u001b[1m1s\u001b[0m 8ms/step - accuracy: 0.4985 - loss: 0.6932 - val_accuracy: 0.7016 - val_loss: 0.6927\n",
      "Epoch 13/50\n",
      "\u001b[1m84/84\u001b[0m \u001b[32m━━━━━━━━━━━━━━━━━━━━\u001b[0m\u001b[37m\u001b[0m \u001b[1m1s\u001b[0m 7ms/step - accuracy: 0.4984 - loss: 0.6932 - val_accuracy: 0.7016 - val_loss: 0.6927\n",
      "Epoch 14/50\n",
      "\u001b[1m84/84\u001b[0m \u001b[32m━━━━━━━━━━━━━━━━━━━━\u001b[0m\u001b[37m\u001b[0m \u001b[1m1s\u001b[0m 8ms/step - accuracy: 0.4998 - loss: 0.6932 - val_accuracy: 0.7016 - val_loss: 0.6932\n",
      "Epoch 15/50\n",
      "\u001b[1m84/84\u001b[0m \u001b[32m━━━━━━━━━━━━━━━━━━━━\u001b[0m\u001b[37m\u001b[0m \u001b[1m1s\u001b[0m 7ms/step - accuracy: 0.5015 - loss: 0.6932 - val_accuracy: 0.7016 - val_loss: 0.6925\n",
      "Epoch 16/50\n",
      "\u001b[1m84/84\u001b[0m \u001b[32m━━━━━━━━━━━━━━━━━━━━\u001b[0m\u001b[37m\u001b[0m \u001b[1m1s\u001b[0m 8ms/step - accuracy: 0.4844 - loss: 0.6932 - val_accuracy: 0.7016 - val_loss: 0.6933\n",
      "Epoch 17/50\n",
      "\u001b[1m84/84\u001b[0m \u001b[32m━━━━━━━━━━━━━━━━━━━━\u001b[0m\u001b[37m\u001b[0m \u001b[1m1s\u001b[0m 8ms/step - accuracy: 0.4955 - loss: 0.6932 - val_accuracy: 0.7016 - val_loss: 0.6933\n",
      "Epoch 18/50\n",
      "\u001b[1m84/84\u001b[0m \u001b[32m━━━━━━━━━━━━━━━━━━━━\u001b[0m\u001b[37m\u001b[0m \u001b[1m1s\u001b[0m 8ms/step - accuracy: 0.5171 - loss: 0.6932 - val_accuracy: 0.7016 - val_loss: 0.6927\n",
      "Epoch 19/50\n",
      "\u001b[1m84/84\u001b[0m \u001b[32m━━━━━━━━━━━━━━━━━━━━\u001b[0m\u001b[37m\u001b[0m \u001b[1m1s\u001b[0m 8ms/step - accuracy: 0.5061 - loss: 0.6932 - val_accuracy: 0.7016 - val_loss: 0.6927\n",
      "Epoch 20/50\n",
      "\u001b[1m84/84\u001b[0m \u001b[32m━━━━━━━━━━━━━━━━━━━━\u001b[0m\u001b[37m\u001b[0m \u001b[1m1s\u001b[0m 8ms/step - accuracy: 0.4878 - loss: 0.6932 - val_accuracy: 0.7016 - val_loss: 0.6932\n",
      "Epoch 21/50\n",
      "\u001b[1m84/84\u001b[0m \u001b[32m━━━━━━━━━━━━━━━━━━━━\u001b[0m\u001b[37m\u001b[0m \u001b[1m1s\u001b[0m 7ms/step - accuracy: 0.4868 - loss: 0.6932 - val_accuracy: 0.7016 - val_loss: 0.6927\n",
      "Epoch 22/50\n",
      "\u001b[1m84/84\u001b[0m \u001b[32m━━━━━━━━━━━━━━━━━━━━\u001b[0m\u001b[37m\u001b[0m \u001b[1m1s\u001b[0m 7ms/step - accuracy: 0.4936 - loss: 0.6932 - val_accuracy: 0.7016 - val_loss: 0.6931\n",
      "Epoch 23/50\n",
      "\u001b[1m84/84\u001b[0m \u001b[32m━━━━━━━━━━━━━━━━━━━━\u001b[0m\u001b[37m\u001b[0m \u001b[1m1s\u001b[0m 8ms/step - accuracy: 0.5102 - loss: 0.6932 - val_accuracy: 0.7016 - val_loss: 0.6929\n",
      "Epoch 24/50\n",
      "\u001b[1m84/84\u001b[0m \u001b[32m━━━━━━━━━━━━━━━━━━━━\u001b[0m\u001b[37m\u001b[0m \u001b[1m1s\u001b[0m 8ms/step - accuracy: 0.5022 - loss: 0.6932 - val_accuracy: 0.7016 - val_loss: 0.6927\n",
      "Epoch 25/50\n",
      "\u001b[1m84/84\u001b[0m \u001b[32m━━━━━━━━━━━━━━━━━━━━\u001b[0m\u001b[37m\u001b[0m \u001b[1m1s\u001b[0m 9ms/step - accuracy: 0.5038 - loss: 0.6931 - val_accuracy: 0.7016 - val_loss: 0.6937\n",
      "Epoch 26/50\n",
      "\u001b[1m84/84\u001b[0m \u001b[32m━━━━━━━━━━━━━━━━━━━━\u001b[0m\u001b[37m\u001b[0m \u001b[1m1s\u001b[0m 8ms/step - accuracy: 0.5162 - loss: 0.6933 - val_accuracy: 0.7016 - val_loss: 0.6934\n",
      "Epoch 27/50\n",
      "\u001b[1m84/84\u001b[0m \u001b[32m━━━━━━━━━━━━━━━━━━━━\u001b[0m\u001b[37m\u001b[0m \u001b[1m1s\u001b[0m 7ms/step - accuracy: 0.4926 - loss: 0.6932 - val_accuracy: 0.7016 - val_loss: 0.6931\n",
      "Epoch 28/50\n",
      "\u001b[1m84/84\u001b[0m \u001b[32m━━━━━━━━━━━━━━━━━━━━\u001b[0m\u001b[37m\u001b[0m \u001b[1m1s\u001b[0m 8ms/step - accuracy: 0.4946 - loss: 0.6932 - val_accuracy: 0.7016 - val_loss: 0.6929\n",
      "Epoch 29/50\n",
      "\u001b[1m84/84\u001b[0m \u001b[32m━━━━━━━━━━━━━━━━━━━━\u001b[0m\u001b[37m\u001b[0m \u001b[1m1s\u001b[0m 7ms/step - accuracy: 0.4863 - loss: 0.6932 - val_accuracy: 0.7016 - val_loss: 0.6931\n",
      "Epoch 30/50\n",
      "\u001b[1m84/84\u001b[0m \u001b[32m━━━━━━━━━━━━━━━━━━━━\u001b[0m\u001b[37m\u001b[0m \u001b[1m1s\u001b[0m 8ms/step - accuracy: 0.5081 - loss: 0.6931 - val_accuracy: 0.7016 - val_loss: 0.6930\n",
      "Epoch 31/50\n",
      "\u001b[1m84/84\u001b[0m \u001b[32m━━━━━━━━━━━━━━━━━━━━\u001b[0m\u001b[37m\u001b[0m \u001b[1m1s\u001b[0m 8ms/step - accuracy: 0.5022 - loss: 0.6932 - val_accuracy: 0.7016 - val_loss: 0.6933\n",
      "Epoch 32/50\n",
      "\u001b[1m84/84\u001b[0m \u001b[32m━━━━━━━━━━━━━━━━━━━━\u001b[0m\u001b[37m\u001b[0m \u001b[1m1s\u001b[0m 8ms/step - accuracy: 0.5112 - loss: 0.6932 - val_accuracy: 0.7016 - val_loss: 0.6936\n",
      "Epoch 33/50\n",
      "\u001b[1m84/84\u001b[0m \u001b[32m━━━━━━━━━━━━━━━━━━━━\u001b[0m\u001b[37m\u001b[0m \u001b[1m1s\u001b[0m 7ms/step - accuracy: 0.5143 - loss: 0.6932 - val_accuracy: 0.7016 - val_loss: 0.6932\n",
      "Epoch 34/50\n",
      "\u001b[1m84/84\u001b[0m \u001b[32m━━━━━━━━━━━━━━━━━━━━\u001b[0m\u001b[37m\u001b[0m \u001b[1m1s\u001b[0m 8ms/step - accuracy: 0.5119 - loss: 0.6932 - val_accuracy: 0.7016 - val_loss: 0.6929\n",
      "Epoch 35/50\n",
      "\u001b[1m84/84\u001b[0m \u001b[32m━━━━━━━━━━━━━━━━━━━━\u001b[0m\u001b[37m\u001b[0m \u001b[1m1s\u001b[0m 9ms/step - accuracy: 0.4959 - loss: 0.6932 - val_accuracy: 0.7016 - val_loss: 0.6926\n",
      "Epoch 36/50\n",
      "\u001b[1m84/84\u001b[0m \u001b[32m━━━━━━━━━━━━━━━━━━━━\u001b[0m\u001b[37m\u001b[0m \u001b[1m1s\u001b[0m 8ms/step - accuracy: 0.4833 - loss: 0.6932 - val_accuracy: 0.7016 - val_loss: 0.6936\n",
      "Epoch 37/50\n",
      "\u001b[1m84/84\u001b[0m \u001b[32m━━━━━━━━━━━━━━━━━━━━\u001b[0m\u001b[37m\u001b[0m \u001b[1m1s\u001b[0m 8ms/step - accuracy: 0.5134 - loss: 0.6932 - val_accuracy: 0.7016 - val_loss: 0.6928\n",
      "Epoch 38/50\n",
      "\u001b[1m84/84\u001b[0m \u001b[32m━━━━━━━━━━━━━━━━━━━━\u001b[0m\u001b[37m\u001b[0m \u001b[1m1s\u001b[0m 8ms/step - accuracy: 0.4962 - loss: 0.6932 - val_accuracy: 0.7016 - val_loss: 0.6936\n",
      "Epoch 39/50\n",
      "\u001b[1m84/84\u001b[0m \u001b[32m━━━━━━━━━━━━━━━━━━━━\u001b[0m\u001b[37m\u001b[0m \u001b[1m1s\u001b[0m 8ms/step - accuracy: 0.5028 - loss: 0.6932 - val_accuracy: 0.7016 - val_loss: 0.6933\n",
      "Epoch 40/50\n",
      "\u001b[1m84/84\u001b[0m \u001b[32m━━━━━━━━━━━━━━━━━━━━\u001b[0m\u001b[37m\u001b[0m \u001b[1m1s\u001b[0m 8ms/step - accuracy: 0.4909 - loss: 0.6932 - val_accuracy: 0.7016 - val_loss: 0.6929\n",
      "Epoch 41/50\n",
      "\u001b[1m84/84\u001b[0m \u001b[32m━━━━━━━━━━━━━━━━━━━━\u001b[0m\u001b[37m\u001b[0m \u001b[1m1s\u001b[0m 7ms/step - accuracy: 0.5087 - loss: 0.6931 - val_accuracy: 0.7016 - val_loss: 0.6926\n",
      "Epoch 42/50\n",
      "\u001b[1m84/84\u001b[0m \u001b[32m━━━━━━━━━━━━━━━━━━━━\u001b[0m\u001b[37m\u001b[0m \u001b[1m1s\u001b[0m 8ms/step - accuracy: 0.5151 - loss: 0.6931 - val_accuracy: 0.7016 - val_loss: 0.6930\n",
      "Epoch 43/50\n",
      "\u001b[1m84/84\u001b[0m \u001b[32m━━━━━━━━━━━━━━━━━━━━\u001b[0m\u001b[37m\u001b[0m \u001b[1m1s\u001b[0m 7ms/step - accuracy: 0.5298 - loss: 0.6932 - val_accuracy: 0.7016 - val_loss: 0.6931\n",
      "Epoch 44/50\n",
      "\u001b[1m84/84\u001b[0m \u001b[32m━━━━━━━━━━━━━━━━━━━━\u001b[0m\u001b[37m\u001b[0m \u001b[1m1s\u001b[0m 8ms/step - accuracy: 0.5065 - loss: 0.6932 - val_accuracy: 0.7016 - val_loss: 0.6935\n",
      "Epoch 45/50\n",
      "\u001b[1m84/84\u001b[0m \u001b[32m━━━━━━━━━━━━━━━━━━━━\u001b[0m\u001b[37m\u001b[0m \u001b[1m1s\u001b[0m 8ms/step - accuracy: 0.5187 - loss: 0.6932 - val_accuracy: 0.7016 - val_loss: 0.6931\n",
      "Epoch 46/50\n",
      "\u001b[1m84/84\u001b[0m \u001b[32m━━━━━━━━━━━━━━━━━━━━\u001b[0m\u001b[37m\u001b[0m \u001b[1m1s\u001b[0m 7ms/step - accuracy: 0.5139 - loss: 0.6932 - val_accuracy: 0.7016 - val_loss: 0.6932\n",
      "Epoch 47/50\n",
      "\u001b[1m84/84\u001b[0m \u001b[32m━━━━━━━━━━━━━━━━━━━━\u001b[0m\u001b[37m\u001b[0m \u001b[1m1s\u001b[0m 8ms/step - accuracy: 0.4893 - loss: 0.6932 - val_accuracy: 0.7016 - val_loss: 0.6933\n",
      "Epoch 48/50\n",
      "\u001b[1m84/84\u001b[0m \u001b[32m━━━━━━━━━━━━━━━━━━━━\u001b[0m\u001b[37m\u001b[0m \u001b[1m1s\u001b[0m 8ms/step - accuracy: 0.4860 - loss: 0.6931 - val_accuracy: 0.7016 - val_loss: 0.6937\n",
      "Epoch 49/50\n",
      "\u001b[1m84/84\u001b[0m \u001b[32m━━━━━━━━━━━━━━━━━━━━\u001b[0m\u001b[37m\u001b[0m \u001b[1m1s\u001b[0m 8ms/step - accuracy: 0.4988 - loss: 0.6932 - val_accuracy: 0.7016 - val_loss: 0.6937\n",
      "Epoch 50/50\n",
      "\u001b[1m84/84\u001b[0m \u001b[32m━━━━━━━━━━━━━━━━━━━━\u001b[0m\u001b[37m\u001b[0m \u001b[1m1s\u001b[0m 9ms/step - accuracy: 0.4977 - loss: 0.6932 - val_accuracy: 0.7016 - val_loss: 0.6934\n"
     ]
    }
   ],
   "source": [
    "early_stopping = EarlyStopping(monitor='val_loss', patience=5, restore_best_weights=True)\n",
    "\n",
    "history = model.fit(X_train_resampled, y_train_resampled, \n",
    "                    validation_data=(X_test_scaled, y_test),\n",
    "                    epochs=50, batch_size=16)"
   ]
  },
  {
   "cell_type": "code",
   "execution_count": 29,
   "id": "370c349a-d634-4681-b263-3dcb531dbf56",
   "metadata": {},
   "outputs": [
    {
     "name": "stdout",
     "output_type": "stream",
     "text": [
      "\u001b[1m8/8\u001b[0m \u001b[32m━━━━━━━━━━━━━━━━━━━━\u001b[0m\u001b[37m\u001b[0m \u001b[1m0s\u001b[0m 10ms/step - accuracy: 0.7125 - loss: 0.6934\n",
      "Test Accuracy: 0.70\n"
     ]
    }
   ],
   "source": [
    "loss, accuracy = model.evaluate(X_test_scaled, y_test)\n",
    "print(f\"Test Accuracy: {accuracy:.2f}\")"
   ]
  },
  {
   "cell_type": "code",
   "execution_count": null,
   "id": "04121c34-fbad-465a-962f-f64e33e26b50",
   "metadata": {},
   "outputs": [],
   "source": []
  },
  {
   "cell_type": "code",
   "execution_count": null,
   "id": "11af9b7a-f9f9-43ed-acbd-f0929e4f8eb1",
   "metadata": {},
   "outputs": [],
   "source": []
  }
 ],
 "metadata": {
  "kernelspec": {
   "display_name": "Python 3 (ipykernel)",
   "language": "python",
   "name": "python3"
  },
  "language_info": {
   "codemirror_mode": {
    "name": "ipython",
    "version": 3
   },
   "file_extension": ".py",
   "mimetype": "text/x-python",
   "name": "python",
   "nbconvert_exporter": "python",
   "pygments_lexer": "ipython3",
   "version": "3.12.4"
  }
 },
 "nbformat": 4,
 "nbformat_minor": 5
}
