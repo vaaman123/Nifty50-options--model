{
 "cells": [
  {
   "cell_type": "code",
   "execution_count": 16,
   "id": "ed4b973f-891e-4a9e-a8ef-c750d723e195",
   "metadata": {},
   "outputs": [],
   "source": [
    "import pandas as pd\n",
    "import numpy as np\n",
    "from sklearn.model_selection import train_test_split\n",
    "from sklearn.preprocessing import StandardScaler\n",
    "import tensorflow as tf\n",
    "from tensorflow.keras.models import Sequential\n",
    "from tensorflow.keras.layers import Dense\n",
    "from tensorflow.keras.optimizers import Adam\n",
    "from tensorflow.keras.callbacks import EarlyStopping\n",
    "from tensorflow.keras.regularizers import l2\n",
    "from tensorflow.keras import metrics"
   ]
  },
  {
   "cell_type": "code",
   "execution_count": 11,
   "id": "ce7cbd33-6c23-4136-8663-126ee96042e6",
   "metadata": {},
   "outputs": [],
   "source": [
    "training_data = pd.read_excel(\"C:/Vaaman/Finance model predictor/processed_data_20dec.xlsx\")\n",
    "training_data['class'] = training_data['7 day_future_percentage_increase'].apply(lambda x: (x > 2.0) *1)"
   ]
  },
  {
   "cell_type": "raw",
   "id": "6d2fb351-47c4-4740-ba8e-9b73ccd268db",
   "metadata": {},
   "source": [
    "file_path = r\"C:\\Vaaman\\Finance model predictor\\processed_data.xlsx\"\n",
    "data = pd.read_excel(file_path, sheet_name='Sheet1')\n",
    "data.shape"
   ]
  },
  {
   "cell_type": "code",
   "execution_count": 3,
   "id": "0a3988ec-3499-435a-9b5c-e5f716eb9495",
   "metadata": {},
   "outputs": [],
   "source": [
    "col_list = training_data.columns"
   ]
  },
  {
   "cell_type": "code",
   "execution_count": 4,
   "id": "566dfe25-505d-443c-9a38-ba37ba5ba4df",
   "metadata": {},
   "outputs": [
    {
     "data": {
      "text/plain": [
       "Index(['Ref Date', 'Intial', '7 day_past_min',\n",
       "       '7 day_past_percentage_change_min', '7 day_past_max',\n",
       "       '7 day_past_percentage_change_max', '14 day_past_min',\n",
       "       '14 day_past_percentage_change_min', '14 day_past_max',\n",
       "       '14 day_past_percentage_change_max', '21 day_past_min',\n",
       "       '21 day_past_percentage_change_min', '21 day_past_max',\n",
       "       '21 day_past_percentage_change_max', '28 day_past_min',\n",
       "       '28 day_past_percentage_change_min', '28 day_past_max',\n",
       "       '28 day_past_percentage_change_max', '7 day_future_max',\n",
       "       '7 day_future_percentage_increase'],\n",
       "      dtype='object')"
      ]
     },
     "execution_count": 4,
     "metadata": {},
     "output_type": "execute_result"
    }
   ],
   "source": [
    "col_list"
   ]
  },
  {
   "cell_type": "code",
   "execution_count": 12,
   "id": "676c04f6-645a-4346-8d3e-dd1ca9ed2b43",
   "metadata": {},
   "outputs": [],
   "source": [
    "x = training_data[['7 day_past_percentage_change_min','7 day_past_percentage_change_max','14 day_past_percentage_change_min','14 day_past_percentage_change_max','21 day_past_percentage_change_min','21 day_past_percentage_change_max','28 day_past_percentage_change_min','28 day_past_percentage_change_max']]  \n",
    "y = training_data[['class']]"
   ]
  },
  {
   "cell_type": "code",
   "execution_count": 13,
   "id": "59cfccf9-98f6-4584-af68-f8b0d47b25f0",
   "metadata": {},
   "outputs": [],
   "source": [
    "x_train, x_test, y_train, y_test = train_test_split(x, y, test_size=0.2, random_state = 42)"
   ]
  },
  {
   "cell_type": "code",
   "execution_count": 14,
   "id": "46996234-b5a7-46af-b974-04fe110cccb6",
   "metadata": {},
   "outputs": [],
   "source": [
    "model = Sequential([\n",
    "    Dense(units = 64, activation = 'relu'),\n",
    "    Dense(units = 32, activation = 'relu'),\n",
    "    Dense(units = 32, activation = 'relu'),\n",
    "    Dense(units = 16, activation = 'relu'),\n",
    "    Dense(units = 16, activation = 'relu'),\n",
    "    Dense(units = 8, activation = 'relu'),\n",
    "    Dense(units = 8, activation = 'relu'),\n",
    "    Dense(units = 4, activation = 'relu'),\n",
    "    Dense(units = 4, activation = 'relu'),\n",
    "    Dense(units = 1, activation = 'sigmoid'),\n",
    "])"
   ]
  },
  {
   "cell_type": "code",
   "execution_count": 18,
   "id": "0aa0e4d6-15b1-4501-a08f-c8ae7459fdb2",
   "metadata": {},
   "outputs": [],
   "source": [
    "early_stop = EarlyStopping(monitor='val_loss', patience=5, restore_best_weights=True)\n",
    "model.compile(optimizer = Adam(0.001), \n",
    "             loss = tf.keras.losses.BinaryCrossentropy(),\n",
    "             metrics=['accuracy', metrics.Precision(), metrics.Recall()])\n"
   ]
  },
  {
   "cell_type": "code",
   "execution_count": 62,
   "id": "f2de36e8-4262-41f8-9391-93f9444d66bf",
   "metadata": {},
   "outputs": [
    {
     "name": "stdout",
     "output_type": "stream",
     "text": [
      "(51, 1)\n"
     ]
    }
   ],
   "source": [
    "print(x_test.shape)"
   ]
  },
  {
   "cell_type": "code",
   "execution_count": 19,
   "id": "cdd4117d-5e0d-4480-a4d8-437f9fd291ae",
   "metadata": {},
   "outputs": [
    {
     "name": "stdout",
     "output_type": "stream",
     "text": [
      "Epoch 1/100\n",
      "\u001b[1m13/13\u001b[0m \u001b[32m━━━━━━━━━━━━━━━━━━━━\u001b[0m\u001b[37m\u001b[0m \u001b[1m13s\u001b[0m 135ms/step - accuracy: 0.4597 - loss: 0.6978 - precision: 0.3731 - recall: 0.8650 - val_accuracy: 0.7059 - val_loss: 0.6876 - val_precision: 0.6000 - val_recall: 0.1875\n",
      "Epoch 2/100\n",
      "\u001b[1m13/13\u001b[0m \u001b[32m━━━━━━━━━━━━━━━━━━━━\u001b[0m\u001b[37m\u001b[0m \u001b[1m1s\u001b[0m 26ms/step - accuracy: 0.6729 - loss: 0.6865 - precision: 0.6777 - recall: 0.1356 - val_accuracy: 0.7059 - val_loss: 0.6816 - val_precision: 1.0000 - val_recall: 0.0625\n",
      "Epoch 3/100\n",
      "\u001b[1m13/13\u001b[0m \u001b[32m━━━━━━━━━━━━━━━━━━━━\u001b[0m\u001b[37m\u001b[0m \u001b[1m0s\u001b[0m 21ms/step - accuracy: 0.6921 - loss: 0.6808 - precision: 0.5000 - recall: 0.0144 - val_accuracy: 0.7059 - val_loss: 0.6768 - val_precision: 1.0000 - val_recall: 0.0625\n",
      "Epoch 4/100\n",
      "\u001b[1m13/13\u001b[0m \u001b[32m━━━━━━━━━━━━━━━━━━━━\u001b[0m\u001b[37m\u001b[0m \u001b[1m0s\u001b[0m 29ms/step - accuracy: 0.6890 - loss: 0.6758 - precision: 0.2857 - recall: 0.0080 - val_accuracy: 0.6863 - val_loss: 0.6716 - val_precision: 0.0000e+00 - val_recall: 0.0000e+00\n",
      "Epoch 5/100\n",
      "\u001b[1m13/13\u001b[0m \u001b[32m━━━━━━━━━━━━━━━━━━━━\u001b[0m\u001b[37m\u001b[0m \u001b[1m1s\u001b[0m 28ms/step - accuracy: 0.6516 - loss: 0.6744 - precision: 0.7143 - recall: 0.0184 - val_accuracy: 0.6863 - val_loss: 0.6667 - val_precision: 0.0000e+00 - val_recall: 0.0000e+00\n",
      "Epoch 6/100\n",
      "\u001b[1m13/13\u001b[0m \u001b[32m━━━━━━━━━━━━━━━━━━━━\u001b[0m\u001b[37m\u001b[0m \u001b[1m1s\u001b[0m 21ms/step - accuracy: 0.6320 - loss: 0.6722 - precision: 0.5000 - recall: 0.0161 - val_accuracy: 0.6863 - val_loss: 0.6604 - val_precision: 0.0000e+00 - val_recall: 0.0000e+00\n",
      "Epoch 7/100\n",
      "\u001b[1m13/13\u001b[0m \u001b[32m━━━━━━━━━━━━━━━━━━━━\u001b[0m\u001b[37m\u001b[0m \u001b[1m0s\u001b[0m 22ms/step - accuracy: 0.6781 - loss: 0.6568 - precision: 0.7857 - recall: 0.0462 - val_accuracy: 0.7059 - val_loss: 0.6502 - val_precision: 1.0000 - val_recall: 0.0625\n",
      "Epoch 8/100\n",
      "\u001b[1m13/13\u001b[0m \u001b[32m━━━━━━━━━━━━━━━━━━━━\u001b[0m\u001b[37m\u001b[0m \u001b[1m0s\u001b[0m 21ms/step - accuracy: 0.7205 - loss: 0.6320 - precision: 1.0000 - recall: 0.0866 - val_accuracy: 0.7059 - val_loss: 0.6460 - val_precision: 1.0000 - val_recall: 0.0625\n",
      "Epoch 9/100\n",
      "\u001b[1m13/13\u001b[0m \u001b[32m━━━━━━━━━━━━━━━━━━━━\u001b[0m\u001b[37m\u001b[0m \u001b[1m0s\u001b[0m 20ms/step - accuracy: 0.7464 - loss: 0.6023 - precision: 0.7143 - recall: 0.0589 - val_accuracy: 0.7059 - val_loss: 0.6456 - val_precision: 1.0000 - val_recall: 0.0625\n",
      "Epoch 10/100\n",
      "\u001b[1m13/13\u001b[0m \u001b[32m━━━━━━━━━━━━━━━━━━━━\u001b[0m\u001b[37m\u001b[0m \u001b[1m0s\u001b[0m 20ms/step - accuracy: 0.7291 - loss: 0.6090 - precision: 0.7499 - recall: 0.1786 - val_accuracy: 0.7059 - val_loss: 0.6393 - val_precision: 0.6667 - val_recall: 0.1250\n",
      "Epoch 11/100\n",
      "\u001b[1m13/13\u001b[0m \u001b[32m━━━━━━━━━━━━━━━━━━━━\u001b[0m\u001b[37m\u001b[0m \u001b[1m0s\u001b[0m 21ms/step - accuracy: 0.6966 - loss: 0.6099 - precision: 0.8603 - recall: 0.1903 - val_accuracy: 0.7059 - val_loss: 0.6336 - val_precision: 1.0000 - val_recall: 0.0625\n",
      "Epoch 12/100\n",
      "\u001b[1m13/13\u001b[0m \u001b[32m━━━━━━━━━━━━━━━━━━━━\u001b[0m\u001b[37m\u001b[0m \u001b[1m0s\u001b[0m 20ms/step - accuracy: 0.6789 - loss: 0.6042 - precision: 0.7724 - recall: 0.1171 - val_accuracy: 0.7059 - val_loss: 0.6475 - val_precision: 1.0000 - val_recall: 0.0625\n",
      "Epoch 13/100\n",
      "\u001b[1m13/13\u001b[0m \u001b[32m━━━━━━━━━━━━━━━━━━━━\u001b[0m\u001b[37m\u001b[0m \u001b[1m0s\u001b[0m 21ms/step - accuracy: 0.7094 - loss: 0.5968 - precision: 0.8448 - recall: 0.1888 - val_accuracy: 0.6667 - val_loss: 0.6288 - val_precision: 0.4286 - val_recall: 0.1875\n",
      "Epoch 14/100\n",
      "\u001b[1m13/13\u001b[0m \u001b[32m━━━━━━━━━━━━━━━━━━━━\u001b[0m\u001b[37m\u001b[0m \u001b[1m0s\u001b[0m 19ms/step - accuracy: 0.7519 - loss: 0.5682 - precision: 0.8016 - recall: 0.3242 - val_accuracy: 0.7255 - val_loss: 0.6282 - val_precision: 1.0000 - val_recall: 0.1250\n",
      "Epoch 15/100\n",
      "\u001b[1m13/13\u001b[0m \u001b[32m━━━━━━━━━━━━━━━━━━━━\u001b[0m\u001b[37m\u001b[0m \u001b[1m0s\u001b[0m 26ms/step - accuracy: 0.7116 - loss: 0.5730 - precision: 0.6233 - recall: 0.1307 - val_accuracy: 0.7255 - val_loss: 0.6244 - val_precision: 0.6667 - val_recall: 0.2500\n",
      "Epoch 16/100\n",
      "\u001b[1m13/13\u001b[0m \u001b[32m━━━━━━━━━━━━━━━━━━━━\u001b[0m\u001b[37m\u001b[0m \u001b[1m1s\u001b[0m 19ms/step - accuracy: 0.7326 - loss: 0.5606 - precision: 0.6392 - recall: 0.2009 - val_accuracy: 0.7255 - val_loss: 0.6234 - val_precision: 0.6250 - val_recall: 0.3125\n",
      "Epoch 17/100\n",
      "\u001b[1m13/13\u001b[0m \u001b[32m━━━━━━━━━━━━━━━━━━━━\u001b[0m\u001b[37m\u001b[0m \u001b[1m0s\u001b[0m 25ms/step - accuracy: 0.7149 - loss: 0.5635 - precision: 0.6472 - recall: 0.1748 - val_accuracy: 0.7059 - val_loss: 0.6188 - val_precision: 0.6667 - val_recall: 0.1250\n",
      "Epoch 18/100\n",
      "\u001b[1m13/13\u001b[0m \u001b[32m━━━━━━━━━━━━━━━━━━━━\u001b[0m\u001b[37m\u001b[0m \u001b[1m1s\u001b[0m 19ms/step - accuracy: 0.7279 - loss: 0.5443 - precision: 0.9037 - recall: 0.2154 - val_accuracy: 0.7255 - val_loss: 0.6248 - val_precision: 0.6250 - val_recall: 0.3125\n",
      "Epoch 19/100\n",
      "\u001b[1m13/13\u001b[0m \u001b[32m━━━━━━━━━━━━━━━━━━━━\u001b[0m\u001b[37m\u001b[0m \u001b[1m0s\u001b[0m 20ms/step - accuracy: 0.7212 - loss: 0.5602 - precision: 0.7906 - recall: 0.2614 - val_accuracy: 0.7255 - val_loss: 0.6225 - val_precision: 0.7500 - val_recall: 0.1875\n",
      "Epoch 20/100\n",
      "\u001b[1m13/13\u001b[0m \u001b[32m━━━━━━━━━━━━━━━━━━━━\u001b[0m\u001b[37m\u001b[0m \u001b[1m0s\u001b[0m 20ms/step - accuracy: 0.7320 - loss: 0.5406 - precision: 0.8059 - recall: 0.2071 - val_accuracy: 0.6667 - val_loss: 0.6489 - val_precision: 0.4737 - val_recall: 0.5625\n",
      "Epoch 21/100\n",
      "\u001b[1m13/13\u001b[0m \u001b[32m━━━━━━━━━━━━━━━━━━━━\u001b[0m\u001b[37m\u001b[0m \u001b[1m0s\u001b[0m 20ms/step - accuracy: 0.7330 - loss: 0.5382 - precision: 0.6608 - recall: 0.4468 - val_accuracy: 0.7255 - val_loss: 0.6158 - val_precision: 0.7500 - val_recall: 0.1875\n",
      "Epoch 22/100\n",
      "\u001b[1m13/13\u001b[0m \u001b[32m━━━━━━━━━━━━━━━━━━━━\u001b[0m\u001b[37m\u001b[0m \u001b[1m0s\u001b[0m 20ms/step - accuracy: 0.7031 - loss: 0.5674 - precision: 0.6419 - recall: 0.2126 - val_accuracy: 0.7255 - val_loss: 0.6420 - val_precision: 0.5714 - val_recall: 0.5000\n",
      "Epoch 23/100\n",
      "\u001b[1m13/13\u001b[0m \u001b[32m━━━━━━━━━━━━━━━━━━━━\u001b[0m\u001b[37m\u001b[0m \u001b[1m0s\u001b[0m 19ms/step - accuracy: 0.7378 - loss: 0.5438 - precision: 0.7920 - recall: 0.3260 - val_accuracy: 0.7843 - val_loss: 0.6168 - val_precision: 0.7778 - val_recall: 0.4375\n",
      "Epoch 24/100\n",
      "\u001b[1m13/13\u001b[0m \u001b[32m━━━━━━━━━━━━━━━━━━━━\u001b[0m\u001b[37m\u001b[0m \u001b[1m0s\u001b[0m 21ms/step - accuracy: 0.7659 - loss: 0.5016 - precision: 0.7931 - recall: 0.3374 - val_accuracy: 0.7843 - val_loss: 0.6350 - val_precision: 0.7273 - val_recall: 0.5000\n",
      "Epoch 25/100\n",
      "\u001b[1m13/13\u001b[0m \u001b[32m━━━━━━━━━━━━━━━━━━━━\u001b[0m\u001b[37m\u001b[0m \u001b[1m0s\u001b[0m 20ms/step - accuracy: 0.7426 - loss: 0.5496 - precision: 0.7950 - recall: 0.3191 - val_accuracy: 0.7451 - val_loss: 0.6310 - val_precision: 0.6364 - val_recall: 0.4375\n",
      "Epoch 26/100\n",
      "\u001b[1m13/13\u001b[0m \u001b[32m━━━━━━━━━━━━━━━━━━━━\u001b[0m\u001b[37m\u001b[0m \u001b[1m0s\u001b[0m 19ms/step - accuracy: 0.7332 - loss: 0.5413 - precision: 0.7952 - recall: 0.3067 - val_accuracy: 0.7059 - val_loss: 0.6688 - val_precision: 0.5294 - val_recall: 0.5625\n",
      "Epoch 27/100\n",
      "\u001b[1m13/13\u001b[0m \u001b[32m━━━━━━━━━━━━━━━━━━━━\u001b[0m\u001b[37m\u001b[0m \u001b[1m0s\u001b[0m 21ms/step - accuracy: 0.7345 - loss: 0.5086 - precision: 0.6240 - recall: 0.4375 - val_accuracy: 0.7647 - val_loss: 0.6271 - val_precision: 0.7000 - val_recall: 0.4375\n",
      "Epoch 28/100\n",
      "\u001b[1m13/13\u001b[0m \u001b[32m━━━━━━━━━━━━━━━━━━━━\u001b[0m\u001b[37m\u001b[0m \u001b[1m0s\u001b[0m 19ms/step - accuracy: 0.7891 - loss: 0.4821 - precision: 0.7986 - recall: 0.3283 - val_accuracy: 0.6275 - val_loss: 0.6884 - val_precision: 0.4286 - val_recall: 0.5625\n",
      "Epoch 29/100\n",
      "\u001b[1m13/13\u001b[0m \u001b[32m━━━━━━━━━━━━━━━━━━━━\u001b[0m\u001b[37m\u001b[0m \u001b[1m0s\u001b[0m 19ms/step - accuracy: 0.6989 - loss: 0.5661 - precision: 0.6029 - recall: 0.5220 - val_accuracy: 0.7647 - val_loss: 0.6136 - val_precision: 0.8333 - val_recall: 0.3125\n",
      "Epoch 30/100\n",
      "\u001b[1m13/13\u001b[0m \u001b[32m━━━━━━━━━━━━━━━━━━━━\u001b[0m\u001b[37m\u001b[0m \u001b[1m0s\u001b[0m 20ms/step - accuracy: 0.6837 - loss: 0.5885 - precision: 0.7797 - recall: 0.2959 - val_accuracy: 0.7059 - val_loss: 0.6567 - val_precision: 0.5385 - val_recall: 0.4375\n",
      "Epoch 31/100\n",
      "\u001b[1m13/13\u001b[0m \u001b[32m━━━━━━━━━━━━━━━━━━━━\u001b[0m\u001b[37m\u001b[0m \u001b[1m0s\u001b[0m 19ms/step - accuracy: 0.7182 - loss: 0.5383 - precision: 0.6853 - recall: 0.3559 - val_accuracy: 0.7647 - val_loss: 0.6182 - val_precision: 0.7500 - val_recall: 0.3750\n",
      "Epoch 32/100\n",
      "\u001b[1m13/13\u001b[0m \u001b[32m━━━━━━━━━━━━━━━━━━━━\u001b[0m\u001b[37m\u001b[0m \u001b[1m0s\u001b[0m 20ms/step - accuracy: 0.7547 - loss: 0.4919 - precision: 0.6478 - recall: 0.2645 - val_accuracy: 0.6078 - val_loss: 0.7024 - val_precision: 0.4091 - val_recall: 0.5625\n",
      "Epoch 33/100\n",
      "\u001b[1m13/13\u001b[0m \u001b[32m━━━━━━━━━━━━━━━━━━━━\u001b[0m\u001b[37m\u001b[0m \u001b[1m0s\u001b[0m 20ms/step - accuracy: 0.7447 - loss: 0.5224 - precision: 0.6322 - recall: 0.4995 - val_accuracy: 0.7451 - val_loss: 0.6562 - val_precision: 0.6154 - val_recall: 0.5000\n",
      "Epoch 34/100\n",
      "\u001b[1m13/13\u001b[0m \u001b[32m━━━━━━━━━━━━━━━━━━━━\u001b[0m\u001b[37m\u001b[0m \u001b[1m0s\u001b[0m 20ms/step - accuracy: 0.7234 - loss: 0.5006 - precision: 0.6215 - recall: 0.4727 - val_accuracy: 0.7647 - val_loss: 0.6337 - val_precision: 0.7500 - val_recall: 0.3750\n",
      "Epoch 35/100\n",
      "\u001b[1m13/13\u001b[0m \u001b[32m━━━━━━━━━━━━━━━━━━━━\u001b[0m\u001b[37m\u001b[0m \u001b[1m0s\u001b[0m 22ms/step - accuracy: 0.7289 - loss: 0.5446 - precision: 0.8518 - recall: 0.3198 - val_accuracy: 0.6863 - val_loss: 0.6860 - val_precision: 0.5000 - val_recall: 0.5000\n",
      "Epoch 36/100\n",
      "\u001b[1m13/13\u001b[0m \u001b[32m━━━━━━━━━━━━━━━━━━━━\u001b[0m\u001b[37m\u001b[0m \u001b[1m1s\u001b[0m 19ms/step - accuracy: 0.7301 - loss: 0.5208 - precision: 0.5919 - recall: 0.4535 - val_accuracy: 0.7255 - val_loss: 0.6371 - val_precision: 0.6000 - val_recall: 0.3750\n",
      "Epoch 37/100\n",
      "\u001b[1m13/13\u001b[0m \u001b[32m━━━━━━━━━━━━━━━━━━━━\u001b[0m\u001b[37m\u001b[0m \u001b[1m0s\u001b[0m 21ms/step - accuracy: 0.7724 - loss: 0.4652 - precision: 0.6849 - recall: 0.3728 - val_accuracy: 0.6275 - val_loss: 0.7121 - val_precision: 0.4286 - val_recall: 0.5625\n",
      "Epoch 38/100\n",
      "\u001b[1m13/13\u001b[0m \u001b[32m━━━━━━━━━━━━━━━━━━━━\u001b[0m\u001b[37m\u001b[0m \u001b[1m0s\u001b[0m 20ms/step - accuracy: 0.7171 - loss: 0.5214 - precision: 0.6251 - recall: 0.4635 - val_accuracy: 0.7255 - val_loss: 0.6446 - val_precision: 0.6000 - val_recall: 0.3750\n",
      "Epoch 39/100\n",
      "\u001b[1m13/13\u001b[0m \u001b[32m━━━━━━━━━━━━━━━━━━━━\u001b[0m\u001b[37m\u001b[0m \u001b[1m0s\u001b[0m 21ms/step - accuracy: 0.7805 - loss: 0.4600 - precision: 0.8396 - recall: 0.4210 - val_accuracy: 0.6667 - val_loss: 0.7372 - val_precision: 0.4706 - val_recall: 0.5000\n",
      "Epoch 40/100\n",
      "\u001b[1m13/13\u001b[0m \u001b[32m━━━━━━━━━━━━━━━━━━━━\u001b[0m\u001b[37m\u001b[0m \u001b[1m1s\u001b[0m 18ms/step - accuracy: 0.7508 - loss: 0.5178 - precision: 0.6456 - recall: 0.5249 - val_accuracy: 0.7451 - val_loss: 0.6404 - val_precision: 0.6364 - val_recall: 0.4375\n",
      "Epoch 41/100\n",
      "\u001b[1m13/13\u001b[0m \u001b[32m━━━━━━━━━━━━━━━━━━━━\u001b[0m\u001b[37m\u001b[0m \u001b[1m0s\u001b[0m 19ms/step - accuracy: 0.7747 - loss: 0.4629 - precision: 0.8382 - recall: 0.4280 - val_accuracy: 0.6667 - val_loss: 0.7073 - val_precision: 0.4737 - val_recall: 0.5625\n",
      "Epoch 42/100\n",
      "\u001b[1m13/13\u001b[0m \u001b[32m━━━━━━━━━━━━━━━━━━━━\u001b[0m\u001b[37m\u001b[0m \u001b[1m0s\u001b[0m 19ms/step - accuracy: 0.7943 - loss: 0.4717 - precision: 0.7767 - recall: 0.5189 - val_accuracy: 0.7451 - val_loss: 0.6599 - val_precision: 0.6154 - val_recall: 0.5000\n",
      "Epoch 43/100\n",
      "\u001b[1m13/13\u001b[0m \u001b[32m━━━━━━━━━━━━━━━━━━━━\u001b[0m\u001b[37m\u001b[0m \u001b[1m0s\u001b[0m 20ms/step - accuracy: 0.7920 - loss: 0.4441 - precision: 0.6665 - recall: 0.4549 - val_accuracy: 0.6667 - val_loss: 0.7070 - val_precision: 0.4737 - val_recall: 0.5625\n",
      "Epoch 44/100\n",
      "\u001b[1m13/13\u001b[0m \u001b[32m━━━━━━━━━━━━━━━━━━━━\u001b[0m\u001b[37m\u001b[0m \u001b[1m0s\u001b[0m 20ms/step - accuracy: 0.7408 - loss: 0.4933 - precision: 0.6659 - recall: 0.4574 - val_accuracy: 0.7255 - val_loss: 0.7091 - val_precision: 0.5625 - val_recall: 0.5625\n",
      "Epoch 45/100\n",
      "\u001b[1m13/13\u001b[0m \u001b[32m━━━━━━━━━━━━━━━━━━━━\u001b[0m\u001b[37m\u001b[0m \u001b[1m0s\u001b[0m 28ms/step - accuracy: 0.7561 - loss: 0.4849 - precision: 0.6271 - recall: 0.4315 - val_accuracy: 0.7059 - val_loss: 0.6961 - val_precision: 0.5333 - val_recall: 0.5000\n",
      "Epoch 46/100\n",
      "\u001b[1m13/13\u001b[0m \u001b[32m━━━━━━━━━━━━━━━━━━━━\u001b[0m\u001b[37m\u001b[0m \u001b[1m1s\u001b[0m 21ms/step - accuracy: 0.7736 - loss: 0.4897 - precision: 0.6410 - recall: 0.4880 - val_accuracy: 0.7255 - val_loss: 0.6884 - val_precision: 0.5625 - val_recall: 0.5625\n",
      "Epoch 47/100\n",
      "\u001b[1m13/13\u001b[0m \u001b[32m━━━━━━━━━━━━━━━━━━━━\u001b[0m\u001b[37m\u001b[0m \u001b[1m0s\u001b[0m 19ms/step - accuracy: 0.7667 - loss: 0.4415 - precision: 0.7156 - recall: 0.4357 - val_accuracy: 0.6275 - val_loss: 0.7523 - val_precision: 0.4286 - val_recall: 0.5625\n",
      "Epoch 48/100\n",
      "\u001b[1m13/13\u001b[0m \u001b[32m━━━━━━━━━━━━━━━━━━━━\u001b[0m\u001b[37m\u001b[0m \u001b[1m0s\u001b[0m 20ms/step - accuracy: 0.7440 - loss: 0.4918 - precision: 0.6497 - recall: 0.4593 - val_accuracy: 0.5686 - val_loss: 0.7608 - val_precision: 0.3750 - val_recall: 0.5625\n",
      "Epoch 49/100\n",
      "\u001b[1m13/13\u001b[0m \u001b[32m━━━━━━━━━━━━━━━━━━━━\u001b[0m\u001b[37m\u001b[0m \u001b[1m0s\u001b[0m 20ms/step - accuracy: 0.8090 - loss: 0.4452 - precision: 0.6642 - recall: 0.6641 - val_accuracy: 0.7255 - val_loss: 0.6870 - val_precision: 0.5625 - val_recall: 0.5625\n",
      "Epoch 50/100\n",
      "\u001b[1m13/13\u001b[0m \u001b[32m━━━━━━━━━━━━━━━━━━━━\u001b[0m\u001b[37m\u001b[0m \u001b[1m0s\u001b[0m 20ms/step - accuracy: 0.7591 - loss: 0.4882 - precision: 0.6935 - recall: 0.4868 - val_accuracy: 0.7255 - val_loss: 0.6974 - val_precision: 0.5714 - val_recall: 0.5000\n",
      "Epoch 51/100\n",
      "\u001b[1m13/13\u001b[0m \u001b[32m━━━━━━━━━━━━━━━━━━━━\u001b[0m\u001b[37m\u001b[0m \u001b[1m0s\u001b[0m 20ms/step - accuracy: 0.7243 - loss: 0.4879 - precision: 0.6334 - recall: 0.5081 - val_accuracy: 0.7255 - val_loss: 0.6923 - val_precision: 0.5833 - val_recall: 0.4375\n",
      "Epoch 52/100\n",
      "\u001b[1m13/13\u001b[0m \u001b[32m━━━━━━━━━━━━━━━━━━━━\u001b[0m\u001b[37m\u001b[0m \u001b[1m0s\u001b[0m 26ms/step - accuracy: 0.7327 - loss: 0.5658 - precision: 0.5016 - recall: 0.3463 - val_accuracy: 0.5882 - val_loss: 0.8022 - val_precision: 0.3913 - val_recall: 0.5625\n",
      "Epoch 53/100\n",
      "\u001b[1m13/13\u001b[0m \u001b[32m━━━━━━━━━━━━━━━━━━━━\u001b[0m\u001b[37m\u001b[0m \u001b[1m1s\u001b[0m 22ms/step - accuracy: 0.7606 - loss: 0.5062 - precision: 0.7039 - recall: 0.5268 - val_accuracy: 0.6863 - val_loss: 0.7153 - val_precision: 0.5000 - val_recall: 0.5000\n",
      "Epoch 54/100\n",
      "\u001b[1m13/13\u001b[0m \u001b[32m━━━━━━━━━━━━━━━━━━━━\u001b[0m\u001b[37m\u001b[0m \u001b[1m0s\u001b[0m 21ms/step - accuracy: 0.7499 - loss: 0.4645 - precision: 0.7540 - recall: 0.4806 - val_accuracy: 0.7059 - val_loss: 0.7124 - val_precision: 0.5294 - val_recall: 0.5625\n",
      "Epoch 55/100\n",
      "\u001b[1m13/13\u001b[0m \u001b[32m━━━━━━━━━━━━━━━━━━━━\u001b[0m\u001b[37m\u001b[0m \u001b[1m0s\u001b[0m 26ms/step - accuracy: 0.7624 - loss: 0.4404 - precision: 0.7155 - recall: 0.4755 - val_accuracy: 0.6863 - val_loss: 0.6982 - val_precision: 0.5000 - val_recall: 0.4375\n",
      "Epoch 56/100\n",
      "\u001b[1m13/13\u001b[0m \u001b[32m━━━━━━━━━━━━━━━━━━━━\u001b[0m\u001b[37m\u001b[0m \u001b[1m0s\u001b[0m 20ms/step - accuracy: 0.7530 - loss: 0.4799 - precision: 0.7236 - recall: 0.4480 - val_accuracy: 0.6863 - val_loss: 0.6823 - val_precision: 0.5000 - val_recall: 0.4375\n",
      "Epoch 57/100\n",
      "\u001b[1m13/13\u001b[0m \u001b[32m━━━━━━━━━━━━━━━━━━━━\u001b[0m\u001b[37m\u001b[0m \u001b[1m0s\u001b[0m 19ms/step - accuracy: 0.8071 - loss: 0.4551 - precision: 0.7531 - recall: 0.6702 - val_accuracy: 0.7255 - val_loss: 0.6708 - val_precision: 0.6000 - val_recall: 0.3750\n",
      "Epoch 58/100\n",
      "\u001b[1m13/13\u001b[0m \u001b[32m━━━━━━━━━━━━━━━━━━━━\u001b[0m\u001b[37m\u001b[0m \u001b[1m0s\u001b[0m 20ms/step - accuracy: 0.7495 - loss: 0.4414 - precision: 0.7388 - recall: 0.4116 - val_accuracy: 0.6667 - val_loss: 0.7152 - val_precision: 0.4706 - val_recall: 0.5000\n",
      "Epoch 59/100\n",
      "\u001b[1m13/13\u001b[0m \u001b[32m━━━━━━━━━━━━━━━━━━━━\u001b[0m\u001b[37m\u001b[0m \u001b[1m0s\u001b[0m 19ms/step - accuracy: 0.7997 - loss: 0.3904 - precision: 0.7358 - recall: 0.5173 - val_accuracy: 0.6863 - val_loss: 0.7050 - val_precision: 0.5000 - val_recall: 0.5000\n",
      "Epoch 60/100\n",
      "\u001b[1m13/13\u001b[0m \u001b[32m━━━━━━━━━━━━━━━━━━━━\u001b[0m\u001b[37m\u001b[0m \u001b[1m0s\u001b[0m 20ms/step - accuracy: 0.8055 - loss: 0.4170 - precision: 0.7809 - recall: 0.5668 - val_accuracy: 0.7255 - val_loss: 0.7105 - val_precision: 0.5833 - val_recall: 0.4375\n",
      "Epoch 61/100\n",
      "\u001b[1m13/13\u001b[0m \u001b[32m━━━━━━━━━━━━━━━━━━━━\u001b[0m\u001b[37m\u001b[0m \u001b[1m0s\u001b[0m 18ms/step - accuracy: 0.7709 - loss: 0.4399 - precision: 0.7427 - recall: 0.4927 - val_accuracy: 0.6667 - val_loss: 0.7328 - val_precision: 0.4737 - val_recall: 0.5625\n",
      "Epoch 62/100\n",
      "\u001b[1m13/13\u001b[0m \u001b[32m━━━━━━━━━━━━━━━━━━━━\u001b[0m\u001b[37m\u001b[0m \u001b[1m0s\u001b[0m 19ms/step - accuracy: 0.8228 - loss: 0.4062 - precision: 0.7680 - recall: 0.6034 - val_accuracy: 0.6863 - val_loss: 0.7356 - val_precision: 0.5000 - val_recall: 0.5625\n",
      "Epoch 63/100\n",
      "\u001b[1m13/13\u001b[0m \u001b[32m━━━━━━━━━━━━━━━━━━━━\u001b[0m\u001b[37m\u001b[0m \u001b[1m0s\u001b[0m 21ms/step - accuracy: 0.8188 - loss: 0.4103 - precision: 0.7556 - recall: 0.6588 - val_accuracy: 0.6863 - val_loss: 0.7271 - val_precision: 0.5000 - val_recall: 0.4375\n",
      "Epoch 64/100\n",
      "\u001b[1m13/13\u001b[0m \u001b[32m━━━━━━━━━━━━━━━━━━━━\u001b[0m\u001b[37m\u001b[0m \u001b[1m1s\u001b[0m 19ms/step - accuracy: 0.8031 - loss: 0.4141 - precision: 0.8340 - recall: 0.5806 - val_accuracy: 0.6471 - val_loss: 0.7487 - val_precision: 0.4375 - val_recall: 0.4375\n",
      "Epoch 65/100\n",
      "\u001b[1m13/13\u001b[0m \u001b[32m━━━━━━━━━━━━━━━━━━━━\u001b[0m\u001b[37m\u001b[0m \u001b[1m0s\u001b[0m 21ms/step - accuracy: 0.8292 - loss: 0.4231 - precision: 0.8128 - recall: 0.6924 - val_accuracy: 0.7255 - val_loss: 0.7072 - val_precision: 0.5833 - val_recall: 0.4375\n",
      "Epoch 66/100\n",
      "\u001b[1m13/13\u001b[0m \u001b[32m━━━━━━━━━━━━━━━━━━━━\u001b[0m\u001b[37m\u001b[0m \u001b[1m0s\u001b[0m 19ms/step - accuracy: 0.7805 - loss: 0.4147 - precision: 0.7002 - recall: 0.4701 - val_accuracy: 0.6471 - val_loss: 0.7371 - val_precision: 0.4444 - val_recall: 0.5000\n",
      "Epoch 67/100\n",
      "\u001b[1m13/13\u001b[0m \u001b[32m━━━━━━━━━━━━━━━━━━━━\u001b[0m\u001b[37m\u001b[0m \u001b[1m0s\u001b[0m 20ms/step - accuracy: 0.8246 - loss: 0.3972 - precision: 0.8179 - recall: 0.6547 - val_accuracy: 0.6667 - val_loss: 0.6965 - val_precision: 0.4667 - val_recall: 0.4375\n",
      "Epoch 68/100\n",
      "\u001b[1m13/13\u001b[0m \u001b[32m━━━━━━━━━━━━━━━━━━━━\u001b[0m\u001b[37m\u001b[0m \u001b[1m0s\u001b[0m 19ms/step - accuracy: 0.8039 - loss: 0.3832 - precision: 0.7122 - recall: 0.5314 - val_accuracy: 0.6078 - val_loss: 0.7700 - val_precision: 0.4091 - val_recall: 0.5625\n",
      "Epoch 69/100\n",
      "\u001b[1m13/13\u001b[0m \u001b[32m━━━━━━━━━━━━━━━━━━━━\u001b[0m\u001b[37m\u001b[0m \u001b[1m0s\u001b[0m 20ms/step - accuracy: 0.8108 - loss: 0.4335 - precision: 0.7020 - recall: 0.6579 - val_accuracy: 0.6471 - val_loss: 0.7358 - val_precision: 0.4375 - val_recall: 0.4375\n",
      "Epoch 70/100\n",
      "\u001b[1m13/13\u001b[0m \u001b[32m━━━━━━━━━━━━━━━━━━━━\u001b[0m\u001b[37m\u001b[0m \u001b[1m0s\u001b[0m 20ms/step - accuracy: 0.8303 - loss: 0.3974 - precision: 0.7861 - recall: 0.6728 - val_accuracy: 0.6471 - val_loss: 0.7551 - val_precision: 0.4444 - val_recall: 0.5000\n",
      "Epoch 71/100\n",
      "\u001b[1m13/13\u001b[0m \u001b[32m━━━━━━━━━━━━━━━━━━━━\u001b[0m\u001b[37m\u001b[0m \u001b[1m0s\u001b[0m 19ms/step - accuracy: 0.8274 - loss: 0.4217 - precision: 0.7524 - recall: 0.7111 - val_accuracy: 0.6078 - val_loss: 0.7712 - val_precision: 0.4000 - val_recall: 0.5000\n",
      "Epoch 72/100\n",
      "\u001b[1m13/13\u001b[0m \u001b[32m━━━━━━━━━━━━━━━━━━━━\u001b[0m\u001b[37m\u001b[0m \u001b[1m0s\u001b[0m 20ms/step - accuracy: 0.8443 - loss: 0.3663 - precision: 0.7630 - recall: 0.7323 - val_accuracy: 0.6275 - val_loss: 0.7712 - val_precision: 0.4211 - val_recall: 0.5000\n",
      "Epoch 73/100\n",
      "\u001b[1m13/13\u001b[0m \u001b[32m━━━━━━━━━━━━━━━━━━━━\u001b[0m\u001b[37m\u001b[0m \u001b[1m0s\u001b[0m 21ms/step - accuracy: 0.8376 - loss: 0.3854 - precision: 0.7196 - recall: 0.6770 - val_accuracy: 0.6471 - val_loss: 0.7811 - val_precision: 0.4500 - val_recall: 0.5625\n",
      "Epoch 74/100\n",
      "\u001b[1m13/13\u001b[0m \u001b[32m━━━━━━━━━━━━━━━━━━━━\u001b[0m\u001b[37m\u001b[0m \u001b[1m1s\u001b[0m 19ms/step - accuracy: 0.8089 - loss: 0.4219 - precision: 0.7487 - recall: 0.6601 - val_accuracy: 0.6275 - val_loss: 0.7806 - val_precision: 0.4286 - val_recall: 0.5625\n",
      "Epoch 75/100\n",
      "\u001b[1m13/13\u001b[0m \u001b[32m━━━━━━━━━━━━━━━━━━━━\u001b[0m\u001b[37m\u001b[0m \u001b[1m0s\u001b[0m 18ms/step - accuracy: 0.8016 - loss: 0.4166 - precision: 0.7339 - recall: 0.7231 - val_accuracy: 0.6275 - val_loss: 0.7773 - val_precision: 0.4211 - val_recall: 0.5000\n",
      "Epoch 76/100\n",
      "\u001b[1m13/13\u001b[0m \u001b[32m━━━━━━━━━━━━━━━━━━━━\u001b[0m\u001b[37m\u001b[0m \u001b[1m0s\u001b[0m 20ms/step - accuracy: 0.8312 - loss: 0.4023 - precision: 0.7693 - recall: 0.7260 - val_accuracy: 0.6667 - val_loss: 0.7451 - val_precision: 0.4667 - val_recall: 0.4375\n",
      "Epoch 77/100\n",
      "\u001b[1m13/13\u001b[0m \u001b[32m━━━━━━━━━━━━━━━━━━━━\u001b[0m\u001b[37m\u001b[0m \u001b[1m0s\u001b[0m 20ms/step - accuracy: 0.8496 - loss: 0.3738 - precision: 0.8566 - recall: 0.6629 - val_accuracy: 0.6471 - val_loss: 0.7524 - val_precision: 0.4375 - val_recall: 0.4375\n",
      "Epoch 78/100\n",
      "\u001b[1m13/13\u001b[0m \u001b[32m━━━━━━━━━━━━━━━━━━━━\u001b[0m\u001b[37m\u001b[0m \u001b[1m0s\u001b[0m 19ms/step - accuracy: 0.8277 - loss: 0.3745 - precision: 0.7670 - recall: 0.6635 - val_accuracy: 0.6471 - val_loss: 0.7724 - val_precision: 0.4375 - val_recall: 0.4375\n",
      "Epoch 79/100\n",
      "\u001b[1m13/13\u001b[0m \u001b[32m━━━━━━━━━━━━━━━━━━━━\u001b[0m\u001b[37m\u001b[0m \u001b[1m0s\u001b[0m 21ms/step - accuracy: 0.7799 - loss: 0.4428 - precision: 0.7790 - recall: 0.4931 - val_accuracy: 0.5490 - val_loss: 0.8815 - val_precision: 0.3600 - val_recall: 0.5625\n",
      "Epoch 80/100\n",
      "\u001b[1m13/13\u001b[0m \u001b[32m━━━━━━━━━━━━━━━━━━━━\u001b[0m\u001b[37m\u001b[0m \u001b[1m0s\u001b[0m 20ms/step - accuracy: 0.7375 - loss: 0.4697 - precision: 0.5794 - recall: 0.5785 - val_accuracy: 0.5882 - val_loss: 0.7912 - val_precision: 0.3684 - val_recall: 0.4375\n",
      "Epoch 81/100\n",
      "\u001b[1m13/13\u001b[0m \u001b[32m━━━━━━━━━━━━━━━━━━━━\u001b[0m\u001b[37m\u001b[0m \u001b[1m0s\u001b[0m 19ms/step - accuracy: 0.8485 - loss: 0.3559 - precision: 0.7899 - recall: 0.7224 - val_accuracy: 0.6275 - val_loss: 0.7878 - val_precision: 0.4118 - val_recall: 0.4375\n",
      "Epoch 82/100\n",
      "\u001b[1m13/13\u001b[0m \u001b[32m━━━━━━━━━━━━━━━━━━━━\u001b[0m\u001b[37m\u001b[0m \u001b[1m0s\u001b[0m 20ms/step - accuracy: 0.8373 - loss: 0.3849 - precision: 0.7848 - recall: 0.7123 - val_accuracy: 0.6471 - val_loss: 0.7689 - val_precision: 0.4375 - val_recall: 0.4375\n",
      "Epoch 83/100\n",
      "\u001b[1m13/13\u001b[0m \u001b[32m━━━━━━━━━━━━━━━━━━━━\u001b[0m\u001b[37m\u001b[0m \u001b[1m0s\u001b[0m 18ms/step - accuracy: 0.8351 - loss: 0.3949 - precision: 0.7846 - recall: 0.6621 - val_accuracy: 0.5098 - val_loss: 0.8533 - val_precision: 0.3333 - val_recall: 0.5625\n",
      "Epoch 84/100\n",
      "\u001b[1m13/13\u001b[0m \u001b[32m━━━━━━━━━━━━━━━━━━━━\u001b[0m\u001b[37m\u001b[0m \u001b[1m0s\u001b[0m 20ms/step - accuracy: 0.8907 - loss: 0.3231 - precision: 0.8522 - recall: 0.7851 - val_accuracy: 0.6471 - val_loss: 0.8147 - val_precision: 0.4375 - val_recall: 0.4375\n",
      "Epoch 85/100\n",
      "\u001b[1m13/13\u001b[0m \u001b[32m━━━━━━━━━━━━━━━━━━━━\u001b[0m\u001b[37m\u001b[0m \u001b[1m0s\u001b[0m 18ms/step - accuracy: 0.8726 - loss: 0.3234 - precision: 0.8293 - recall: 0.7401 - val_accuracy: 0.5490 - val_loss: 0.8137 - val_precision: 0.3333 - val_recall: 0.4375\n",
      "Epoch 86/100\n",
      "\u001b[1m13/13\u001b[0m \u001b[32m━━━━━━━━━━━━━━━━━━━━\u001b[0m\u001b[37m\u001b[0m \u001b[1m0s\u001b[0m 20ms/step - accuracy: 0.7926 - loss: 0.4081 - precision: 0.6738 - recall: 0.6937 - val_accuracy: 0.6275 - val_loss: 0.8035 - val_precision: 0.4118 - val_recall: 0.4375\n",
      "Epoch 87/100\n",
      "\u001b[1m13/13\u001b[0m \u001b[32m━━━━━━━━━━━━━━━━━━━━\u001b[0m\u001b[37m\u001b[0m \u001b[1m0s\u001b[0m 19ms/step - accuracy: 0.8009 - loss: 0.4544 - precision: 0.7918 - recall: 0.6518 - val_accuracy: 0.5490 - val_loss: 0.8457 - val_precision: 0.3333 - val_recall: 0.4375\n",
      "Epoch 88/100\n",
      "\u001b[1m13/13\u001b[0m \u001b[32m━━━━━━━━━━━━━━━━━━━━\u001b[0m\u001b[37m\u001b[0m \u001b[1m0s\u001b[0m 20ms/step - accuracy: 0.8735 - loss: 0.3298 - precision: 0.8431 - recall: 0.7787 - val_accuracy: 0.6863 - val_loss: 0.7793 - val_precision: 0.5000 - val_recall: 0.4375\n",
      "Epoch 89/100\n",
      "\u001b[1m13/13\u001b[0m \u001b[32m━━━━━━━━━━━━━━━━━━━━\u001b[0m\u001b[37m\u001b[0m \u001b[1m0s\u001b[0m 19ms/step - accuracy: 0.7951 - loss: 0.3804 - precision: 0.7560 - recall: 0.6519 - val_accuracy: 0.5882 - val_loss: 0.8395 - val_precision: 0.3684 - val_recall: 0.4375\n",
      "Epoch 90/100\n",
      "\u001b[1m13/13\u001b[0m \u001b[32m━━━━━━━━━━━━━━━━━━━━\u001b[0m\u001b[37m\u001b[0m \u001b[1m0s\u001b[0m 19ms/step - accuracy: 0.8325 - loss: 0.3688 - precision: 0.8119 - recall: 0.6818 - val_accuracy: 0.6863 - val_loss: 0.7704 - val_precision: 0.5000 - val_recall: 0.4375\n",
      "Epoch 91/100\n",
      "\u001b[1m13/13\u001b[0m \u001b[32m━━━━━━━━━━━━━━━━━━━━\u001b[0m\u001b[37m\u001b[0m \u001b[1m0s\u001b[0m 20ms/step - accuracy: 0.8838 - loss: 0.3023 - precision: 0.9000 - recall: 0.7234 - val_accuracy: 0.5294 - val_loss: 0.8236 - val_precision: 0.3182 - val_recall: 0.4375\n",
      "Epoch 92/100\n",
      "\u001b[1m13/13\u001b[0m \u001b[32m━━━━━━━━━━━━━━━━━━━━\u001b[0m\u001b[37m\u001b[0m \u001b[1m0s\u001b[0m 20ms/step - accuracy: 0.8645 - loss: 0.3593 - precision: 0.7582 - recall: 0.8007 - val_accuracy: 0.6667 - val_loss: 0.7881 - val_precision: 0.4667 - val_recall: 0.4375\n",
      "Epoch 93/100\n",
      "\u001b[1m13/13\u001b[0m \u001b[32m━━━━━━━━━━━━━━━━━━━━\u001b[0m\u001b[37m\u001b[0m \u001b[1m0s\u001b[0m 21ms/step - accuracy: 0.8631 - loss: 0.3573 - precision: 0.8178 - recall: 0.7007 - val_accuracy: 0.5294 - val_loss: 0.8661 - val_precision: 0.3333 - val_recall: 0.5000\n",
      "Epoch 94/100\n",
      "\u001b[1m13/13\u001b[0m \u001b[32m━━━━━━━━━━━━━━━━━━━━\u001b[0m\u001b[37m\u001b[0m \u001b[1m0s\u001b[0m 18ms/step - accuracy: 0.8377 - loss: 0.3715 - precision: 0.6898 - recall: 0.7397 - val_accuracy: 0.5490 - val_loss: 0.8639 - val_precision: 0.3478 - val_recall: 0.5000\n",
      "Epoch 95/100\n",
      "\u001b[1m13/13\u001b[0m \u001b[32m━━━━━━━━━━━━━━━━━━━━\u001b[0m\u001b[37m\u001b[0m \u001b[1m0s\u001b[0m 20ms/step - accuracy: 0.8693 - loss: 0.3433 - precision: 0.8640 - recall: 0.7201 - val_accuracy: 0.6667 - val_loss: 0.8336 - val_precision: 0.4615 - val_recall: 0.3750\n",
      "Epoch 96/100\n",
      "\u001b[1m13/13\u001b[0m \u001b[32m━━━━━━━━━━━━━━━━━━━━\u001b[0m\u001b[37m\u001b[0m \u001b[1m0s\u001b[0m 18ms/step - accuracy: 0.8180 - loss: 0.3686 - precision: 0.7784 - recall: 0.6249 - val_accuracy: 0.6078 - val_loss: 0.8724 - val_precision: 0.3889 - val_recall: 0.4375\n",
      "Epoch 97/100\n",
      "\u001b[1m13/13\u001b[0m \u001b[32m━━━━━━━━━━━━━━━━━━━━\u001b[0m\u001b[37m\u001b[0m \u001b[1m0s\u001b[0m 20ms/step - accuracy: 0.8136 - loss: 0.4014 - precision: 0.7364 - recall: 0.6916 - val_accuracy: 0.5098 - val_loss: 0.9034 - val_precision: 0.3333 - val_recall: 0.5625\n",
      "Epoch 98/100\n",
      "\u001b[1m13/13\u001b[0m \u001b[32m━━━━━━━━━━━━━━━━━━━━\u001b[0m\u001b[37m\u001b[0m \u001b[1m0s\u001b[0m 19ms/step - accuracy: 0.8482 - loss: 0.3600 - precision: 0.8071 - recall: 0.7447 - val_accuracy: 0.6078 - val_loss: 0.8032 - val_precision: 0.3889 - val_recall: 0.4375\n",
      "Epoch 99/100\n",
      "\u001b[1m13/13\u001b[0m \u001b[32m━━━━━━━━━━━━━━━━━━━━\u001b[0m\u001b[37m\u001b[0m \u001b[1m0s\u001b[0m 19ms/step - accuracy: 0.8696 - loss: 0.3504 - precision: 0.7532 - recall: 0.8665 - val_accuracy: 0.6078 - val_loss: 0.8692 - val_precision: 0.3750 - val_recall: 0.3750\n",
      "Epoch 100/100\n",
      "\u001b[1m13/13\u001b[0m \u001b[32m━━━━━━━━━━━━━━━━━━━━\u001b[0m\u001b[37m\u001b[0m \u001b[1m0s\u001b[0m 22ms/step - accuracy: 0.8581 - loss: 0.3463 - precision: 0.8117 - recall: 0.6920 - val_accuracy: 0.6275 - val_loss: 0.7985 - val_precision: 0.4211 - val_recall: 0.5000\n"
     ]
    },
    {
     "data": {
      "text/plain": [
       "<keras.src.callbacks.history.History at 0x1b86fb0cd40>"
      ]
     },
     "execution_count": 19,
     "metadata": {},
     "output_type": "execute_result"
    }
   ],
   "source": [
    "model.fit(x_train, y_train, epochs = 100,batch_size = 16, validation_data=(x_test, y_test))"
   ]
  },
  {
   "cell_type": "code",
   "execution_count": 20,
   "id": "d266da65-01ad-40f2-b3bf-a995e1d83eed",
   "metadata": {},
   "outputs": [
    {
     "name": "stdout",
     "output_type": "stream",
     "text": [
      "\u001b[1m7/7\u001b[0m \u001b[32m━━━━━━━━━━━━━━━━━━━━\u001b[0m\u001b[37m\u001b[0m \u001b[1m0s\u001b[0m 12ms/step - accuracy: 0.8133 - loss: 0.3830 - precision: 0.7163 - recall: 0.6734\n",
      "0.35533514618873596 0.8399999737739563 0.761904776096344 0.7384615540504456\n"
     ]
    }
   ],
   "source": [
    "loss, accuracy, precision,recall = model.evaluate(x_train, y_train)\n",
    "print ( loss, accuracy, precision,recall)"
   ]
  },
  {
   "cell_type": "code",
   "execution_count": 21,
   "id": "162cbca8-5107-487a-af65-367afb3c0ab4",
   "metadata": {},
   "outputs": [
    {
     "name": "stdout",
     "output_type": "stream",
     "text": [
      "\u001b[1m2/2\u001b[0m \u001b[32m━━━━━━━━━━━━━━━━━━━━\u001b[0m\u001b[37m\u001b[0m \u001b[1m0s\u001b[0m 58ms/step - accuracy: 0.6266 - loss: 0.7808 - precision: 0.3997 - recall: 0.5417\n",
      "0.7984581589698792 0.6274510025978088 0.42105263471603394 0.5\n"
     ]
    }
   ],
   "source": [
    "loss, accuracy, precision,recall = model.evaluate(x_test, y_test)\n",
    "print ( loss, accuracy, precision,recall)"
   ]
  },
  {
   "cell_type": "code",
   "execution_count": 68,
   "id": "ff028a64-7660-491c-9f71-be009b80aeae",
   "metadata": {
    "scrolled": true
   },
   "outputs": [
    {
     "name": "stdout",
     "output_type": "stream",
     "text": [
      "\u001b[1m7/7\u001b[0m \u001b[32m━━━━━━━━━━━━━━━━━━━━\u001b[0m\u001b[37m\u001b[0m \u001b[1m0s\u001b[0m 9ms/step \n"
     ]
    }
   ],
   "source": [
    "x_train = np.array(x_train).flatten()  \n",
    "y_train = np.array(y_train).flatten()  \n",
    "probabilities = model.predict(x_train)\n",
    "probabilities = np.array(probabilities).flatten()\n",
    "df = pd.DataFrame({\n",
    "    'X_Train': x_train,        \n",
    "    'Y_Train': y_train,        \n",
    "    'Probability': probabilities\n",
    "})\n",
    "with pd.ExcelWriter(\"processed_data.xlsx\", mode='a', engine='openpyxl') as writer:\n",
    "    df.to_excel(writer, sheet_name='TrainScring', index=False)"
   ]
  },
  {
   "cell_type": "code",
   "execution_count": 214,
   "id": "021a6f38-766b-47b0-b9a9-8ed4bcb84e73",
   "metadata": {},
   "outputs": [
    {
     "name": "stdout",
     "output_type": "stream",
     "text": [
      "[-3.61255613e-03  7.64814401e-01  2.75696769e-01  3.11626089e+00\n",
      "  5.89256259e+00 -2.15717518e-01  8.91628879e-01 -2.14129094e-03\n",
      "  1.53368221e+00  3.37539451e+00  9.20683147e-01  1.58390334e+00\n",
      "  3.63997034e+00  1.04821684e+00  2.86524430e+00  7.23611408e+00\n",
      "  1.56811950e+00  1.50490607e+01  3.53105008e-01  7.41819740e+00\n",
      " -1.90021446e+00  7.86102633e+00  1.27276362e+00  2.33530076e+00\n",
      "  5.92691037e-01 -1.20241167e-01  1.44154358e+00  1.45111920e+00\n",
      "  1.67614954e+00  9.34555971e-01  5.86435186e-01  2.92127088e+00\n",
      "  1.53753040e+00  1.73702998e+00 -4.24868643e-01 -1.90843229e+00\n",
      "  5.57702989e+00  3.04301675e+00  2.98593263e+00  1.70819515e+00\n",
      "  2.10999070e+00 -1.87659426e-01  5.88067882e-01  1.24887471e+00\n",
      "  1.60930161e+00  1.31098091e+01  4.03577293e+00  4.55428611e+00\n",
      "  2.24052366e-01  2.36116637e+00  1.44376647e+00]\n"
     ]
    }
   ],
   "source": [
    "print(x_test)\n"
   ]
  },
  {
   "cell_type": "code",
   "execution_count": 35,
   "id": "b5653428-88d0-40f3-9f0f-76c65661d85b",
   "metadata": {},
   "outputs": [
    {
     "name": "stdout",
     "output_type": "stream",
     "text": [
      "\u001b[1m7/7\u001b[0m \u001b[32m━━━━━━━━━━━━━━━━━━━━\u001b[0m\u001b[37m\u001b[0m \u001b[1m0s\u001b[0m 9ms/step \n"
     ]
    }
   ],
   "source": [
    "p = model.predict(x_test)"
   ]
  },
  {
   "cell_type": "code",
   "execution_count": 69,
   "id": "d499fc58-48ab-46a6-979b-a42572ce9a01",
   "metadata": {},
   "outputs": [
    {
     "name": "stdout",
     "output_type": "stream",
     "text": [
      "\u001b[1m7/7\u001b[0m \u001b[32m━━━━━━━━━━━━━━━━━━━━\u001b[0m\u001b[37m\u001b[0m \u001b[1m0s\u001b[0m 8ms/step \n"
     ]
    }
   ],
   "source": [
    "u = model.predict(x_train)"
   ]
  },
  {
   "cell_type": "code",
   "execution_count": 37,
   "id": "4ecd00a8-6005-4b91-be67-98c6120d0656",
   "metadata": {},
   "outputs": [
    {
     "name": "stdout",
     "output_type": "stream",
     "text": [
      "(None, 1)\n"
     ]
    }
   ],
   "source": [
    "print(model.input_shape)"
   ]
  },
  {
   "cell_type": "code",
   "execution_count": 42,
   "id": "ba198f3d-701b-44c5-87e9-bfd5c6257ea5",
   "metadata": {},
   "outputs": [
    {
     "name": "stdout",
     "output_type": "stream",
     "text": [
      "(200, 1)\n"
     ]
    }
   ],
   "source": [
    "print(x_train.shape)"
   ]
  },
  {
   "cell_type": "code",
   "execution_count": 39,
   "id": "03cad8bf-41ea-41c9-a387-e037005602bb",
   "metadata": {},
   "outputs": [
    {
     "name": "stdout",
     "output_type": "stream",
     "text": [
      "(200, 1)\n"
     ]
    }
   ],
   "source": [
    "print(x_train.shape)"
   ]
  },
  {
   "cell_type": "code",
   "execution_count": null,
   "id": "b6c37222-3995-4218-ad58-b24a3eaffa7c",
   "metadata": {},
   "outputs": [],
   "source": [
    "def calc_prec_recall(model, dataset, threshold):\n",
    "    '''\n",
    "    '''\n",
    "    df = dataset.copy()\n",
    "    tot_ones = df[df['ground_truth'] == 1].shape(0)\n",
    "    tot_zeros = df[df['ground truth'] == 0].shape(0)\n",
    "    df['prediction'] = df[df[p]]"
   ]
  }
 ],
 "metadata": {
  "kernelspec": {
   "display_name": "Python 3 (ipykernel)",
   "language": "python",
   "name": "python3"
  },
  "language_info": {
   "codemirror_mode": {
    "name": "ipython",
    "version": 3
   },
   "file_extension": ".py",
   "mimetype": "text/x-python",
   "name": "python",
   "nbconvert_exporter": "python",
   "pygments_lexer": "ipython3",
   "version": "3.12.4"
  }
 },
 "nbformat": 4,
 "nbformat_minor": 5
}
