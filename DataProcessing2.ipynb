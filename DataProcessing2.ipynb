{
 "cells": [
  {
   "cell_type": "code",
   "execution_count": 1,
   "id": "27652b85-0509-4a05-9d03-f2cf1e5da2c3",
   "metadata": {},
   "outputs": [],
   "source": [
    "import pandas as pd\n",
    "import numpy as np"
   ]
  },
  {
   "cell_type": "code",
   "execution_count": 7,
   "id": "c2b62e93-d403-4007-89bd-dac271703093",
   "metadata": {},
   "outputs": [],
   "source": [
    "data_2324= pd.read_csv(r\"C:\\Users\\vaama\\Downloads\\NIFTY 50-07-12-2023-to-07-12-2024 (2).csv\")\n",
    "data_2223 = pd.read_csv(r\"C:\\Users\\vaama\\Downloads\\NIFTY 50-07-12-2022-to-06-12-2023.csv\")\n",
    "data_2122 = pd.read_csv(r\"C:\\Users\\vaama\\Downloads\\NIFTY 50-07-12-2021-to-06-12-2022.csv\")\n",
    "data_2021 = pd.read_csv(r\"C:\\Users\\vaama\\Downloads\\NIFTY 50-07-12-2020-to-06-12-2021.csv\")\n",
    "data_1920 = pd.read_csv(r\"C:\\Users\\vaama\\Downloads\\NIFTY 50-07-12-2019-to-06-12-2020.csv\")\n",
    "data = pd.concat([data_1920, data_2021,data_2122,data_2223,data_2324]) \n",
    "data['RunningNumber'] = range(1, len(data) + 1)"
   ]
  },
  {
   "cell_type": "code",
   "execution_count": 15,
   "id": "33e4d8ae-e212-4888-8476-0cd437d8233c",
   "metadata": {},
   "outputs": [],
   "source": [
    "def find_range(data,date, days_list):\n",
    "    ref_data = data[data['Date '] == date]\n",
    "    ref_row = ref_data['RunningNumber']\n",
    "    for day in days_list:\n",
    "        if (day > 0):\n",
    "            filtered_data = data[data['RunningNumber'] - ref_row <= day and data['RunningNumber'] > ref_row]\n",
    "            highest = filtered_data['High '].max()\n",
    "            percentage_increase = (highest - initial_price) / initial_price * 100\n",
    "            frame[str(-day) + \" day_future_max\"] = [highest]\n",
    "            frame[str(-day) + \" day_future_percentage_increase\"] = [percentage_increase]\n",
    "        else:\n",
    "            filtered_cata = data[ref_row  - data['RunningNumber']<= day and data['RunningNumber'] < ref_row]\n",
    "            lowest_past = filtered_data['Low '].min()\n",
    "            highest_past = filtered_data['High '].max()\n",
    "            percentage_change_max = (initial_price-highest_past) / initial_price * 100\n",
    "            percentage_change_min = (initial_price - lowest_past) / initial_price * 100\n",
    "            frame[str(day) + \" day_past_min\"] = [lowest_past]\n",
    "            frame[str(day) + \" day_past_percentage_change_min\"] = [percentage_change_min]\n",
    "            frame[str(day) + \" day_past_max\"] = [highest_past]\n",
    "        "
   ]
  },
  {
   "cell_type": "code",
   "execution_count": 16,
   "id": "350c6bd4-d33e-4b93-86ca-09d3bb02e842",
   "metadata": {},
   "outputs": [],
   "source": [
    "window_list = [7,14,21,28,-7]"
   ]
  },
  {
   "cell_type": "code",
   "execution_count": 18,
   "id": "161b6f5c-4d3d-42bb-816d-0d05dcf072a7",
   "metadata": {},
   "outputs": [
    {
     "ename": "ValueError",
     "evalue": "The truth value of a Series is ambiguous. Use a.empty, a.bool(), a.item(), a.any() or a.all().",
     "output_type": "error",
     "traceback": [
      "\u001b[1;31m---------------------------------------------------------------------------\u001b[0m",
      "\u001b[1;31mValueError\u001b[0m                                Traceback (most recent call last)",
      "\u001b[1;32m~\\AppData\\Local\\Temp\\ipykernel_28956\\232227905.py\u001b[0m in \u001b[0;36m?\u001b[1;34m()\u001b[0m\n\u001b[0;32m      5\u001b[0m \u001b[0mthursdays_data\u001b[0m \u001b[1;33m=\u001b[0m \u001b[0mdata\u001b[0m\u001b[1;33m[\u001b[0m\u001b[0mdata\u001b[0m\u001b[1;33m[\u001b[0m\u001b[1;34m'day_of_week'\u001b[0m\u001b[1;33m]\u001b[0m \u001b[1;33m==\u001b[0m \u001b[1;36m3\u001b[0m\u001b[1;33m]\u001b[0m  \u001b[1;31m# Filter Thursdays\u001b[0m\u001b[1;33m\u001b[0m\u001b[1;33m\u001b[0m\u001b[0m\n\u001b[0;32m      6\u001b[0m \u001b[0mthursdays\u001b[0m \u001b[1;33m=\u001b[0m \u001b[0mthursdays_data\u001b[0m\u001b[1;33m[\u001b[0m\u001b[1;34m'Date '\u001b[0m\u001b[1;33m]\u001b[0m\u001b[1;33m\u001b[0m\u001b[1;33m\u001b[0m\u001b[0m\n\u001b[0;32m      7\u001b[0m \u001b[1;31m# Loop through Thursdays and collect results\u001b[0m\u001b[1;33m\u001b[0m\u001b[1;33m\u001b[0m\u001b[0m\n\u001b[0;32m      8\u001b[0m \u001b[1;32mfor\u001b[0m \u001b[0mweekday\u001b[0m \u001b[1;32min\u001b[0m \u001b[0mthursdays\u001b[0m\u001b[1;33m:\u001b[0m\u001b[1;33m\u001b[0m\u001b[1;33m\u001b[0m\u001b[0m\n\u001b[1;32m----> 9\u001b[1;33m     \u001b[0mresult\u001b[0m \u001b[1;33m=\u001b[0m \u001b[0mfind_range\u001b[0m\u001b[1;33m(\u001b[0m\u001b[0mdata\u001b[0m\u001b[1;33m,\u001b[0m \u001b[0mweekday\u001b[0m\u001b[1;33m,\u001b[0m\u001b[0mwindow_list\u001b[0m\u001b[1;33m)\u001b[0m\u001b[1;33m\u001b[0m\u001b[1;33m\u001b[0m\u001b[0m\n\u001b[0m\u001b[0;32m     10\u001b[0m     \u001b[0mresults\u001b[0m\u001b[1;33m.\u001b[0m\u001b[0mappend\u001b[0m\u001b[1;33m(\u001b[0m\u001b[0mresult\u001b[0m\u001b[1;33m)\u001b[0m\u001b[1;33m\u001b[0m\u001b[1;33m\u001b[0m\u001b[0m\n\u001b[0;32m     11\u001b[0m \u001b[1;31m# Concatenate all results into a single DataFrame\u001b[0m\u001b[1;33m\u001b[0m\u001b[1;33m\u001b[0m\u001b[0m\n\u001b[0;32m     12\u001b[0m \u001b[0mfinal_results\u001b[0m \u001b[1;33m=\u001b[0m \u001b[0mpd\u001b[0m\u001b[1;33m.\u001b[0m\u001b[0mconcat\u001b[0m\u001b[1;33m(\u001b[0m\u001b[0mresults\u001b[0m\u001b[1;33m,\u001b[0m \u001b[0mignore_index\u001b[0m\u001b[1;33m=\u001b[0m\u001b[1;32mTrue\u001b[0m\u001b[1;33m)\u001b[0m\u001b[1;33m\u001b[0m\u001b[1;33m\u001b[0m\u001b[0m\n",
      "\u001b[1;32m~\\AppData\\Local\\Temp\\ipykernel_28956\\1882148433.py\u001b[0m in \u001b[0;36m?\u001b[1;34m(data, date, days_list)\u001b[0m\n\u001b[0;32m      2\u001b[0m     \u001b[0mref_data\u001b[0m \u001b[1;33m=\u001b[0m \u001b[0mdata\u001b[0m\u001b[1;33m[\u001b[0m\u001b[0mdata\u001b[0m\u001b[1;33m[\u001b[0m\u001b[1;34m'Date '\u001b[0m\u001b[1;33m]\u001b[0m \u001b[1;33m==\u001b[0m \u001b[0mdate\u001b[0m\u001b[1;33m]\u001b[0m\u001b[1;33m\u001b[0m\u001b[1;33m\u001b[0m\u001b[0m\n\u001b[0;32m      3\u001b[0m     \u001b[0mref_row\u001b[0m \u001b[1;33m=\u001b[0m \u001b[0mref_data\u001b[0m\u001b[1;33m[\u001b[0m\u001b[1;34m'RunningNumber'\u001b[0m\u001b[1;33m]\u001b[0m\u001b[1;33m\u001b[0m\u001b[1;33m\u001b[0m\u001b[0m\n\u001b[0;32m      4\u001b[0m     \u001b[1;32mfor\u001b[0m \u001b[0mday\u001b[0m \u001b[1;32min\u001b[0m \u001b[0mdays_list\u001b[0m\u001b[1;33m:\u001b[0m\u001b[1;33m\u001b[0m\u001b[1;33m\u001b[0m\u001b[0m\n\u001b[0;32m      5\u001b[0m         \u001b[1;32mif\u001b[0m \u001b[1;33m(\u001b[0m\u001b[0mday\u001b[0m \u001b[1;33m>\u001b[0m \u001b[1;36m0\u001b[0m\u001b[1;33m)\u001b[0m\u001b[1;33m:\u001b[0m\u001b[1;33m\u001b[0m\u001b[1;33m\u001b[0m\u001b[0m\n\u001b[1;32m----> 6\u001b[1;33m             \u001b[0mfiltered_data\u001b[0m \u001b[1;33m=\u001b[0m \u001b[0mdata\u001b[0m\u001b[1;33m[\u001b[0m\u001b[0mdata\u001b[0m\u001b[1;33m[\u001b[0m\u001b[1;34m'RunningNumber'\u001b[0m\u001b[1;33m]\u001b[0m \u001b[1;33m-\u001b[0m \u001b[0mref_row\u001b[0m \u001b[1;33m<=\u001b[0m \u001b[0mday\u001b[0m \u001b[1;32mand\u001b[0m \u001b[0mdata\u001b[0m\u001b[1;33m[\u001b[0m\u001b[1;34m'RunningNumber'\u001b[0m\u001b[1;33m]\u001b[0m \u001b[1;33m>\u001b[0m \u001b[0mref_row\u001b[0m\u001b[1;33m]\u001b[0m\u001b[1;33m\u001b[0m\u001b[1;33m\u001b[0m\u001b[0m\n\u001b[0m\u001b[0;32m      7\u001b[0m             \u001b[0mhighest\u001b[0m \u001b[1;33m=\u001b[0m \u001b[0mfiltered_data\u001b[0m\u001b[1;33m[\u001b[0m\u001b[1;34m'High '\u001b[0m\u001b[1;33m]\u001b[0m\u001b[1;33m.\u001b[0m\u001b[0mmax\u001b[0m\u001b[1;33m(\u001b[0m\u001b[1;33m)\u001b[0m\u001b[1;33m\u001b[0m\u001b[1;33m\u001b[0m\u001b[0m\n\u001b[0;32m      8\u001b[0m             \u001b[0mpercentage_increase\u001b[0m \u001b[1;33m=\u001b[0m \u001b[1;33m(\u001b[0m\u001b[0mhighest\u001b[0m \u001b[1;33m-\u001b[0m \u001b[0minitial_price\u001b[0m\u001b[1;33m)\u001b[0m \u001b[1;33m/\u001b[0m \u001b[0minitial_price\u001b[0m \u001b[1;33m*\u001b[0m \u001b[1;36m100\u001b[0m\u001b[1;33m\u001b[0m\u001b[1;33m\u001b[0m\u001b[0m\n\u001b[0;32m      9\u001b[0m             \u001b[0mframe\u001b[0m\u001b[1;33m[\u001b[0m\u001b[0mstr\u001b[0m\u001b[1;33m(\u001b[0m\u001b[1;33m-\u001b[0m\u001b[0mday\u001b[0m\u001b[1;33m)\u001b[0m \u001b[1;33m+\u001b[0m \u001b[1;34m\" day_future_max\"\u001b[0m\u001b[1;33m]\u001b[0m \u001b[1;33m=\u001b[0m \u001b[1;33m[\u001b[0m\u001b[0mhighest\u001b[0m\u001b[1;33m]\u001b[0m\u001b[1;33m\u001b[0m\u001b[1;33m\u001b[0m\u001b[0m\n",
      "\u001b[1;32m~\\anaconda3\\Lib\\site-packages\\pandas\\core\\generic.py\u001b[0m in \u001b[0;36m?\u001b[1;34m(self)\u001b[0m\n\u001b[0;32m   1575\u001b[0m     \u001b[1;33m@\u001b[0m\u001b[0mfinal\u001b[0m\u001b[1;33m\u001b[0m\u001b[1;33m\u001b[0m\u001b[0m\n\u001b[0;32m   1576\u001b[0m     \u001b[1;32mdef\u001b[0m \u001b[0m__nonzero__\u001b[0m\u001b[1;33m(\u001b[0m\u001b[0mself\u001b[0m\u001b[1;33m)\u001b[0m \u001b[1;33m->\u001b[0m \u001b[0mNoReturn\u001b[0m\u001b[1;33m:\u001b[0m\u001b[1;33m\u001b[0m\u001b[1;33m\u001b[0m\u001b[0m\n\u001b[1;32m-> 1577\u001b[1;33m         raise ValueError(\n\u001b[0m\u001b[0;32m   1578\u001b[0m             \u001b[1;33mf\"\u001b[0m\u001b[1;33mThe truth value of a \u001b[0m\u001b[1;33m{\u001b[0m\u001b[0mtype\u001b[0m\u001b[1;33m(\u001b[0m\u001b[0mself\u001b[0m\u001b[1;33m)\u001b[0m\u001b[1;33m.\u001b[0m\u001b[0m__name__\u001b[0m\u001b[1;33m}\u001b[0m\u001b[1;33m is ambiguous. \u001b[0m\u001b[1;33m\"\u001b[0m\u001b[1;33m\u001b[0m\u001b[1;33m\u001b[0m\u001b[0m\n\u001b[0;32m   1579\u001b[0m             \u001b[1;34m\"Use a.empty, a.bool(), a.item(), a.any() or a.all().\"\u001b[0m\u001b[1;33m\u001b[0m\u001b[1;33m\u001b[0m\u001b[0m\n\u001b[0;32m   1580\u001b[0m         \u001b[1;33m)\u001b[0m\u001b[1;33m\u001b[0m\u001b[1;33m\u001b[0m\u001b[0m\n",
      "\u001b[1;31mValueError\u001b[0m: The truth value of a Series is ambiguous. Use a.empty, a.bool(), a.item(), a.any() or a.all()."
     ]
    }
   ],
   "source": [
    "results = []\n",
    "data['Date '] = pd.to_datetime(data['Date '])\n",
    "dates = data['Date ']\n",
    "data['day_of_week'] = data['Date '].dt.dayofweek\n",
    "thursdays_data = data[data['day_of_week'] == 3]  # Filter Thursdays\n",
    "thursdays = thursdays_data['Date '] \n",
    "# Loop through Thursdays and collect results\n",
    "for weekday in thursdays:\n",
    "    result = find_range(data, weekday,window_list)\n",
    "    results.append(result)\n",
    "# Concatenate all results into a single DataFrame\n",
    "final_results = pd.concat(results, ignore_index=True)\n",
    "print(final_results)"
   ]
  },
  {
   "cell_type": "code",
   "execution_count": null,
   "id": "68f6cc5c-a41e-4f03-8cb1-e08ef4a9dbbf",
   "metadata": {},
   "outputs": [],
   "source": []
  }
 ],
 "metadata": {
  "kernelspec": {
   "display_name": "Python 3 (ipykernel)",
   "language": "python",
   "name": "python3"
  },
  "language_info": {
   "codemirror_mode": {
    "name": "ipython",
    "version": 3
   },
   "file_extension": ".py",
   "mimetype": "text/x-python",
   "name": "python",
   "nbconvert_exporter": "python",
   "pygments_lexer": "ipython3",
   "version": "3.12.4"
  }
 },
 "nbformat": 4,
 "nbformat_minor": 5
}
